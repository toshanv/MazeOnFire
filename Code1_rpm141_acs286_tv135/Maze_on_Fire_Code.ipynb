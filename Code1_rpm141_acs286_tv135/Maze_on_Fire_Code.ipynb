{
  "nbformat": 4,
  "nbformat_minor": 0,
  "metadata": {
    "colab": {
      "name": "Maze on Fire Report.ipynb",
      "provenance": [],
      "collapsed_sections": [
        "F7tHOmA1WC7n",
        "lV36eefGWC72",
        "-g9rK30SWC72",
        "37FB_kjoWC73",
        "dCOJakC1WC79",
        "XCWDoG9zWC7-",
        "TJ4HHVNt4Bdm"
      ],
      "toc_visible": true
    },
    "kernelspec": {
      "display_name": "Python 3",
      "language": "python",
      "name": "python3"
    },
    "language_info": {
      "codemirror_mode": {
        "name": "ipython",
        "version": 3
      },
      "file_extension": ".py",
      "mimetype": "text/x-python",
      "name": "python",
      "nbconvert_exporter": "python",
      "pygments_lexer": "ipython3",
      "version": "3.8.5"
    },
    "widgets": {
      "application/vnd.jupyter.widget-state+json": {
        "9cf914e1d187416fa9ea2853da109bfe": {
          "model_module": "@jupyter-widgets/controls",
          "model_name": "HBoxModel",
          "state": {
            "_view_name": "HBoxView",
            "_dom_classes": [],
            "_model_name": "HBoxModel",
            "_view_module": "@jupyter-widgets/controls",
            "_model_module_version": "1.5.0",
            "_view_count": null,
            "_view_module_version": "1.5.0",
            "box_style": "",
            "layout": "IPY_MODEL_95fabf8da8ad49d1a0b045f29efd5a1d",
            "_model_module": "@jupyter-widgets/controls",
            "children": [
              "IPY_MODEL_44a45afc1195419d8899d2134494431e",
              "IPY_MODEL_fa7f5a55397c4bbd8d59507f6477c287"
            ]
          }
        },
        "95fabf8da8ad49d1a0b045f29efd5a1d": {
          "model_module": "@jupyter-widgets/base",
          "model_name": "LayoutModel",
          "state": {
            "_view_name": "LayoutView",
            "grid_template_rows": null,
            "right": null,
            "justify_content": null,
            "_view_module": "@jupyter-widgets/base",
            "overflow": null,
            "_model_module_version": "1.2.0",
            "_view_count": null,
            "flex_flow": null,
            "width": null,
            "min_width": null,
            "border": null,
            "align_items": null,
            "bottom": null,
            "_model_module": "@jupyter-widgets/base",
            "top": null,
            "grid_column": null,
            "overflow_y": null,
            "overflow_x": null,
            "grid_auto_flow": null,
            "grid_area": null,
            "grid_template_columns": null,
            "flex": null,
            "_model_name": "LayoutModel",
            "justify_items": null,
            "grid_row": null,
            "max_height": null,
            "align_content": null,
            "visibility": null,
            "align_self": null,
            "height": null,
            "min_height": null,
            "padding": null,
            "grid_auto_rows": null,
            "grid_gap": null,
            "max_width": null,
            "order": null,
            "_view_module_version": "1.2.0",
            "grid_template_areas": null,
            "object_position": null,
            "object_fit": null,
            "grid_auto_columns": null,
            "margin": null,
            "display": null,
            "left": null
          }
        },
        "44a45afc1195419d8899d2134494431e": {
          "model_module": "@jupyter-widgets/controls",
          "model_name": "FloatProgressModel",
          "state": {
            "_view_name": "ProgressView",
            "style": "IPY_MODEL_c53a97a1afa445488de20c6df145770f",
            "_dom_classes": [],
            "description": "100%",
            "_model_name": "FloatProgressModel",
            "bar_style": "success",
            "max": 2000,
            "_view_module": "@jupyter-widgets/controls",
            "_model_module_version": "1.5.0",
            "value": 2000,
            "_view_count": null,
            "_view_module_version": "1.5.0",
            "orientation": "horizontal",
            "min": 0,
            "description_tooltip": null,
            "_model_module": "@jupyter-widgets/controls",
            "layout": "IPY_MODEL_a428bba91c48475d8811c2be39d72cad"
          }
        },
        "fa7f5a55397c4bbd8d59507f6477c287": {
          "model_module": "@jupyter-widgets/controls",
          "model_name": "HTMLModel",
          "state": {
            "_view_name": "HTMLView",
            "style": "IPY_MODEL_48d365cb7fe34c85bf85ad533ea8aebf",
            "_dom_classes": [],
            "description": "",
            "_model_name": "HTMLModel",
            "placeholder": "​",
            "_view_module": "@jupyter-widgets/controls",
            "_model_module_version": "1.5.0",
            "value": " 2000/2000 [00:12&lt;00:00, 163.64it/s]",
            "_view_count": null,
            "_view_module_version": "1.5.0",
            "description_tooltip": null,
            "_model_module": "@jupyter-widgets/controls",
            "layout": "IPY_MODEL_9e119204663f4b069142cf303fd0d357"
          }
        },
        "c53a97a1afa445488de20c6df145770f": {
          "model_module": "@jupyter-widgets/controls",
          "model_name": "ProgressStyleModel",
          "state": {
            "_view_name": "StyleView",
            "_model_name": "ProgressStyleModel",
            "description_width": "initial",
            "_view_module": "@jupyter-widgets/base",
            "_model_module_version": "1.5.0",
            "_view_count": null,
            "_view_module_version": "1.2.0",
            "bar_color": null,
            "_model_module": "@jupyter-widgets/controls"
          }
        },
        "a428bba91c48475d8811c2be39d72cad": {
          "model_module": "@jupyter-widgets/base",
          "model_name": "LayoutModel",
          "state": {
            "_view_name": "LayoutView",
            "grid_template_rows": null,
            "right": null,
            "justify_content": null,
            "_view_module": "@jupyter-widgets/base",
            "overflow": null,
            "_model_module_version": "1.2.0",
            "_view_count": null,
            "flex_flow": null,
            "width": null,
            "min_width": null,
            "border": null,
            "align_items": null,
            "bottom": null,
            "_model_module": "@jupyter-widgets/base",
            "top": null,
            "grid_column": null,
            "overflow_y": null,
            "overflow_x": null,
            "grid_auto_flow": null,
            "grid_area": null,
            "grid_template_columns": null,
            "flex": null,
            "_model_name": "LayoutModel",
            "justify_items": null,
            "grid_row": null,
            "max_height": null,
            "align_content": null,
            "visibility": null,
            "align_self": null,
            "height": null,
            "min_height": null,
            "padding": null,
            "grid_auto_rows": null,
            "grid_gap": null,
            "max_width": null,
            "order": null,
            "_view_module_version": "1.2.0",
            "grid_template_areas": null,
            "object_position": null,
            "object_fit": null,
            "grid_auto_columns": null,
            "margin": null,
            "display": null,
            "left": null
          }
        },
        "48d365cb7fe34c85bf85ad533ea8aebf": {
          "model_module": "@jupyter-widgets/controls",
          "model_name": "DescriptionStyleModel",
          "state": {
            "_view_name": "StyleView",
            "_model_name": "DescriptionStyleModel",
            "description_width": "",
            "_view_module": "@jupyter-widgets/base",
            "_model_module_version": "1.5.0",
            "_view_count": null,
            "_view_module_version": "1.2.0",
            "_model_module": "@jupyter-widgets/controls"
          }
        },
        "9e119204663f4b069142cf303fd0d357": {
          "model_module": "@jupyter-widgets/base",
          "model_name": "LayoutModel",
          "state": {
            "_view_name": "LayoutView",
            "grid_template_rows": null,
            "right": null,
            "justify_content": null,
            "_view_module": "@jupyter-widgets/base",
            "overflow": null,
            "_model_module_version": "1.2.0",
            "_view_count": null,
            "flex_flow": null,
            "width": null,
            "min_width": null,
            "border": null,
            "align_items": null,
            "bottom": null,
            "_model_module": "@jupyter-widgets/base",
            "top": null,
            "grid_column": null,
            "overflow_y": null,
            "overflow_x": null,
            "grid_auto_flow": null,
            "grid_area": null,
            "grid_template_columns": null,
            "flex": null,
            "_model_name": "LayoutModel",
            "justify_items": null,
            "grid_row": null,
            "max_height": null,
            "align_content": null,
            "visibility": null,
            "align_self": null,
            "height": null,
            "min_height": null,
            "padding": null,
            "grid_auto_rows": null,
            "grid_gap": null,
            "max_width": null,
            "order": null,
            "_view_module_version": "1.2.0",
            "grid_template_areas": null,
            "object_position": null,
            "object_fit": null,
            "grid_auto_columns": null,
            "margin": null,
            "display": null,
            "left": null
          }
        },
        "80e85de229d44d1ea151912d73e76b0d": {
          "model_module": "@jupyter-widgets/controls",
          "model_name": "HBoxModel",
          "state": {
            "_view_name": "HBoxView",
            "_dom_classes": [],
            "_model_name": "HBoxModel",
            "_view_module": "@jupyter-widgets/controls",
            "_model_module_version": "1.5.0",
            "_view_count": null,
            "_view_module_version": "1.5.0",
            "box_style": "",
            "layout": "IPY_MODEL_20389082a62941078c7d18abfec01da3",
            "_model_module": "@jupyter-widgets/controls",
            "children": [
              "IPY_MODEL_8f2bd133b6744809bc0b82165e6f4a8d",
              "IPY_MODEL_98215059ff904590b4062230c5bb99d6"
            ]
          }
        },
        "20389082a62941078c7d18abfec01da3": {
          "model_module": "@jupyter-widgets/base",
          "model_name": "LayoutModel",
          "state": {
            "_view_name": "LayoutView",
            "grid_template_rows": null,
            "right": null,
            "justify_content": null,
            "_view_module": "@jupyter-widgets/base",
            "overflow": null,
            "_model_module_version": "1.2.0",
            "_view_count": null,
            "flex_flow": null,
            "width": null,
            "min_width": null,
            "border": null,
            "align_items": null,
            "bottom": null,
            "_model_module": "@jupyter-widgets/base",
            "top": null,
            "grid_column": null,
            "overflow_y": null,
            "overflow_x": null,
            "grid_auto_flow": null,
            "grid_area": null,
            "grid_template_columns": null,
            "flex": null,
            "_model_name": "LayoutModel",
            "justify_items": null,
            "grid_row": null,
            "max_height": null,
            "align_content": null,
            "visibility": null,
            "align_self": null,
            "height": null,
            "min_height": null,
            "padding": null,
            "grid_auto_rows": null,
            "grid_gap": null,
            "max_width": null,
            "order": null,
            "_view_module_version": "1.2.0",
            "grid_template_areas": null,
            "object_position": null,
            "object_fit": null,
            "grid_auto_columns": null,
            "margin": null,
            "display": null,
            "left": null
          }
        },
        "8f2bd133b6744809bc0b82165e6f4a8d": {
          "model_module": "@jupyter-widgets/controls",
          "model_name": "FloatProgressModel",
          "state": {
            "_view_name": "ProgressView",
            "style": "IPY_MODEL_ce0cff32aff84f1fa4a4173976a0fa67",
            "_dom_classes": [],
            "description": "100%",
            "_model_name": "FloatProgressModel",
            "bar_style": "success",
            "max": 2000,
            "_view_module": "@jupyter-widgets/controls",
            "_model_module_version": "1.5.0",
            "value": 2000,
            "_view_count": null,
            "_view_module_version": "1.5.0",
            "orientation": "horizontal",
            "min": 0,
            "description_tooltip": null,
            "_model_module": "@jupyter-widgets/controls",
            "layout": "IPY_MODEL_79ec91cbee8a400898da62585eb983db"
          }
        },
        "98215059ff904590b4062230c5bb99d6": {
          "model_module": "@jupyter-widgets/controls",
          "model_name": "HTMLModel",
          "state": {
            "_view_name": "HTMLView",
            "style": "IPY_MODEL_6e9766f5ce0a4314861f5b4a81c8e7c6",
            "_dom_classes": [],
            "description": "",
            "_model_name": "HTMLModel",
            "placeholder": "​",
            "_view_module": "@jupyter-widgets/controls",
            "_model_module_version": "1.5.0",
            "value": " 2000/2000 [01:18&lt;00:00, 25.37it/s]",
            "_view_count": null,
            "_view_module_version": "1.5.0",
            "description_tooltip": null,
            "_model_module": "@jupyter-widgets/controls",
            "layout": "IPY_MODEL_0eb6d7fce8dc4e8f985dc5bf4ba83d06"
          }
        },
        "ce0cff32aff84f1fa4a4173976a0fa67": {
          "model_module": "@jupyter-widgets/controls",
          "model_name": "ProgressStyleModel",
          "state": {
            "_view_name": "StyleView",
            "_model_name": "ProgressStyleModel",
            "description_width": "initial",
            "_view_module": "@jupyter-widgets/base",
            "_model_module_version": "1.5.0",
            "_view_count": null,
            "_view_module_version": "1.2.0",
            "bar_color": null,
            "_model_module": "@jupyter-widgets/controls"
          }
        },
        "79ec91cbee8a400898da62585eb983db": {
          "model_module": "@jupyter-widgets/base",
          "model_name": "LayoutModel",
          "state": {
            "_view_name": "LayoutView",
            "grid_template_rows": null,
            "right": null,
            "justify_content": null,
            "_view_module": "@jupyter-widgets/base",
            "overflow": null,
            "_model_module_version": "1.2.0",
            "_view_count": null,
            "flex_flow": null,
            "width": null,
            "min_width": null,
            "border": null,
            "align_items": null,
            "bottom": null,
            "_model_module": "@jupyter-widgets/base",
            "top": null,
            "grid_column": null,
            "overflow_y": null,
            "overflow_x": null,
            "grid_auto_flow": null,
            "grid_area": null,
            "grid_template_columns": null,
            "flex": null,
            "_model_name": "LayoutModel",
            "justify_items": null,
            "grid_row": null,
            "max_height": null,
            "align_content": null,
            "visibility": null,
            "align_self": null,
            "height": null,
            "min_height": null,
            "padding": null,
            "grid_auto_rows": null,
            "grid_gap": null,
            "max_width": null,
            "order": null,
            "_view_module_version": "1.2.0",
            "grid_template_areas": null,
            "object_position": null,
            "object_fit": null,
            "grid_auto_columns": null,
            "margin": null,
            "display": null,
            "left": null
          }
        },
        "6e9766f5ce0a4314861f5b4a81c8e7c6": {
          "model_module": "@jupyter-widgets/controls",
          "model_name": "DescriptionStyleModel",
          "state": {
            "_view_name": "StyleView",
            "_model_name": "DescriptionStyleModel",
            "description_width": "",
            "_view_module": "@jupyter-widgets/base",
            "_model_module_version": "1.5.0",
            "_view_count": null,
            "_view_module_version": "1.2.0",
            "_model_module": "@jupyter-widgets/controls"
          }
        },
        "0eb6d7fce8dc4e8f985dc5bf4ba83d06": {
          "model_module": "@jupyter-widgets/base",
          "model_name": "LayoutModel",
          "state": {
            "_view_name": "LayoutView",
            "grid_template_rows": null,
            "right": null,
            "justify_content": null,
            "_view_module": "@jupyter-widgets/base",
            "overflow": null,
            "_model_module_version": "1.2.0",
            "_view_count": null,
            "flex_flow": null,
            "width": null,
            "min_width": null,
            "border": null,
            "align_items": null,
            "bottom": null,
            "_model_module": "@jupyter-widgets/base",
            "top": null,
            "grid_column": null,
            "overflow_y": null,
            "overflow_x": null,
            "grid_auto_flow": null,
            "grid_area": null,
            "grid_template_columns": null,
            "flex": null,
            "_model_name": "LayoutModel",
            "justify_items": null,
            "grid_row": null,
            "max_height": null,
            "align_content": null,
            "visibility": null,
            "align_self": null,
            "height": null,
            "min_height": null,
            "padding": null,
            "grid_auto_rows": null,
            "grid_gap": null,
            "max_width": null,
            "order": null,
            "_view_module_version": "1.2.0",
            "grid_template_areas": null,
            "object_position": null,
            "object_fit": null,
            "grid_auto_columns": null,
            "margin": null,
            "display": null,
            "left": null
          }
        },
        "5816fb66189a4b7b9ec9893ed798e588": {
          "model_module": "@jupyter-widgets/controls",
          "model_name": "HBoxModel",
          "state": {
            "_view_name": "HBoxView",
            "_dom_classes": [],
            "_model_name": "HBoxModel",
            "_view_module": "@jupyter-widgets/controls",
            "_model_module_version": "1.5.0",
            "_view_count": null,
            "_view_module_version": "1.5.0",
            "box_style": "",
            "layout": "IPY_MODEL_08cfe1abade549419a93480f7b8e8ecb",
            "_model_module": "@jupyter-widgets/controls",
            "children": [
              "IPY_MODEL_dc1b9cb33e8043f39ddef432e9733ad9",
              "IPY_MODEL_e6216207c3f34d75bd56abb557564bfd"
            ]
          }
        },
        "08cfe1abade549419a93480f7b8e8ecb": {
          "model_module": "@jupyter-widgets/base",
          "model_name": "LayoutModel",
          "state": {
            "_view_name": "LayoutView",
            "grid_template_rows": null,
            "right": null,
            "justify_content": null,
            "_view_module": "@jupyter-widgets/base",
            "overflow": null,
            "_model_module_version": "1.2.0",
            "_view_count": null,
            "flex_flow": null,
            "width": null,
            "min_width": null,
            "border": null,
            "align_items": null,
            "bottom": null,
            "_model_module": "@jupyter-widgets/base",
            "top": null,
            "grid_column": null,
            "overflow_y": null,
            "overflow_x": null,
            "grid_auto_flow": null,
            "grid_area": null,
            "grid_template_columns": null,
            "flex": null,
            "_model_name": "LayoutModel",
            "justify_items": null,
            "grid_row": null,
            "max_height": null,
            "align_content": null,
            "visibility": null,
            "align_self": null,
            "height": null,
            "min_height": null,
            "padding": null,
            "grid_auto_rows": null,
            "grid_gap": null,
            "max_width": null,
            "order": null,
            "_view_module_version": "1.2.0",
            "grid_template_areas": null,
            "object_position": null,
            "object_fit": null,
            "grid_auto_columns": null,
            "margin": null,
            "display": null,
            "left": null
          }
        },
        "dc1b9cb33e8043f39ddef432e9733ad9": {
          "model_module": "@jupyter-widgets/controls",
          "model_name": "FloatProgressModel",
          "state": {
            "_view_name": "ProgressView",
            "style": "IPY_MODEL_de0166c6c6f8444295bb04842b3c7c7a",
            "_dom_classes": [],
            "description": "100%",
            "_model_name": "FloatProgressModel",
            "bar_style": "success",
            "max": 200,
            "_view_module": "@jupyter-widgets/controls",
            "_model_module_version": "1.5.0",
            "value": 200,
            "_view_count": null,
            "_view_module_version": "1.5.0",
            "orientation": "horizontal",
            "min": 0,
            "description_tooltip": null,
            "_model_module": "@jupyter-widgets/controls",
            "layout": "IPY_MODEL_52cba9d5a44d4d6eb19d0571d5f49b3d"
          }
        },
        "e6216207c3f34d75bd56abb557564bfd": {
          "model_module": "@jupyter-widgets/controls",
          "model_name": "HTMLModel",
          "state": {
            "_view_name": "HTMLView",
            "style": "IPY_MODEL_95648c119f6045bbbaf58f15ab310e36",
            "_dom_classes": [],
            "description": "",
            "_model_name": "HTMLModel",
            "placeholder": "​",
            "_view_module": "@jupyter-widgets/controls",
            "_model_module_version": "1.5.0",
            "value": " 200/200 [19:30&lt;00:00,  5.85s/it]",
            "_view_count": null,
            "_view_module_version": "1.5.0",
            "description_tooltip": null,
            "_model_module": "@jupyter-widgets/controls",
            "layout": "IPY_MODEL_3aff87048fec476fbee43a51c405a197"
          }
        },
        "de0166c6c6f8444295bb04842b3c7c7a": {
          "model_module": "@jupyter-widgets/controls",
          "model_name": "ProgressStyleModel",
          "state": {
            "_view_name": "StyleView",
            "_model_name": "ProgressStyleModel",
            "description_width": "initial",
            "_view_module": "@jupyter-widgets/base",
            "_model_module_version": "1.5.0",
            "_view_count": null,
            "_view_module_version": "1.2.0",
            "bar_color": null,
            "_model_module": "@jupyter-widgets/controls"
          }
        },
        "52cba9d5a44d4d6eb19d0571d5f49b3d": {
          "model_module": "@jupyter-widgets/base",
          "model_name": "LayoutModel",
          "state": {
            "_view_name": "LayoutView",
            "grid_template_rows": null,
            "right": null,
            "justify_content": null,
            "_view_module": "@jupyter-widgets/base",
            "overflow": null,
            "_model_module_version": "1.2.0",
            "_view_count": null,
            "flex_flow": null,
            "width": null,
            "min_width": null,
            "border": null,
            "align_items": null,
            "bottom": null,
            "_model_module": "@jupyter-widgets/base",
            "top": null,
            "grid_column": null,
            "overflow_y": null,
            "overflow_x": null,
            "grid_auto_flow": null,
            "grid_area": null,
            "grid_template_columns": null,
            "flex": null,
            "_model_name": "LayoutModel",
            "justify_items": null,
            "grid_row": null,
            "max_height": null,
            "align_content": null,
            "visibility": null,
            "align_self": null,
            "height": null,
            "min_height": null,
            "padding": null,
            "grid_auto_rows": null,
            "grid_gap": null,
            "max_width": null,
            "order": null,
            "_view_module_version": "1.2.0",
            "grid_template_areas": null,
            "object_position": null,
            "object_fit": null,
            "grid_auto_columns": null,
            "margin": null,
            "display": null,
            "left": null
          }
        },
        "95648c119f6045bbbaf58f15ab310e36": {
          "model_module": "@jupyter-widgets/controls",
          "model_name": "DescriptionStyleModel",
          "state": {
            "_view_name": "StyleView",
            "_model_name": "DescriptionStyleModel",
            "description_width": "",
            "_view_module": "@jupyter-widgets/base",
            "_model_module_version": "1.5.0",
            "_view_count": null,
            "_view_module_version": "1.2.0",
            "_model_module": "@jupyter-widgets/controls"
          }
        },
        "3aff87048fec476fbee43a51c405a197": {
          "model_module": "@jupyter-widgets/base",
          "model_name": "LayoutModel",
          "state": {
            "_view_name": "LayoutView",
            "grid_template_rows": null,
            "right": null,
            "justify_content": null,
            "_view_module": "@jupyter-widgets/base",
            "overflow": null,
            "_model_module_version": "1.2.0",
            "_view_count": null,
            "flex_flow": null,
            "width": null,
            "min_width": null,
            "border": null,
            "align_items": null,
            "bottom": null,
            "_model_module": "@jupyter-widgets/base",
            "top": null,
            "grid_column": null,
            "overflow_y": null,
            "overflow_x": null,
            "grid_auto_flow": null,
            "grid_area": null,
            "grid_template_columns": null,
            "flex": null,
            "_model_name": "LayoutModel",
            "justify_items": null,
            "grid_row": null,
            "max_height": null,
            "align_content": null,
            "visibility": null,
            "align_self": null,
            "height": null,
            "min_height": null,
            "padding": null,
            "grid_auto_rows": null,
            "grid_gap": null,
            "max_width": null,
            "order": null,
            "_view_module_version": "1.2.0",
            "grid_template_areas": null,
            "object_position": null,
            "object_fit": null,
            "grid_auto_columns": null,
            "margin": null,
            "display": null,
            "left": null
          }
        },
        "e537fdce73d547c28a5973651ffc73d5": {
          "model_module": "@jupyter-widgets/controls",
          "model_name": "HBoxModel",
          "state": {
            "_view_name": "HBoxView",
            "_dom_classes": [],
            "_model_name": "HBoxModel",
            "_view_module": "@jupyter-widgets/controls",
            "_model_module_version": "1.5.0",
            "_view_count": null,
            "_view_module_version": "1.5.0",
            "box_style": "",
            "layout": "IPY_MODEL_8fc107601f044e72b01f50c14d0ee980",
            "_model_module": "@jupyter-widgets/controls",
            "children": [
              "IPY_MODEL_515e7ad7babb4858867f4d18534c6a3b",
              "IPY_MODEL_46300ed667f44f89afee6dee7355dd16"
            ]
          }
        },
        "8fc107601f044e72b01f50c14d0ee980": {
          "model_module": "@jupyter-widgets/base",
          "model_name": "LayoutModel",
          "state": {
            "_view_name": "LayoutView",
            "grid_template_rows": null,
            "right": null,
            "justify_content": null,
            "_view_module": "@jupyter-widgets/base",
            "overflow": null,
            "_model_module_version": "1.2.0",
            "_view_count": null,
            "flex_flow": null,
            "width": null,
            "min_width": null,
            "border": null,
            "align_items": null,
            "bottom": null,
            "_model_module": "@jupyter-widgets/base",
            "top": null,
            "grid_column": null,
            "overflow_y": null,
            "overflow_x": null,
            "grid_auto_flow": null,
            "grid_area": null,
            "grid_template_columns": null,
            "flex": null,
            "_model_name": "LayoutModel",
            "justify_items": null,
            "grid_row": null,
            "max_height": null,
            "align_content": null,
            "visibility": null,
            "align_self": null,
            "height": null,
            "min_height": null,
            "padding": null,
            "grid_auto_rows": null,
            "grid_gap": null,
            "max_width": null,
            "order": null,
            "_view_module_version": "1.2.0",
            "grid_template_areas": null,
            "object_position": null,
            "object_fit": null,
            "grid_auto_columns": null,
            "margin": null,
            "display": null,
            "left": null
          }
        },
        "515e7ad7babb4858867f4d18534c6a3b": {
          "model_module": "@jupyter-widgets/controls",
          "model_name": "FloatProgressModel",
          "state": {
            "_view_name": "ProgressView",
            "style": "IPY_MODEL_d0b9fc3a13be4dacac5b7b7e29c87c64",
            "_dom_classes": [],
            "description": "100%",
            "_model_name": "FloatProgressModel",
            "bar_style": "success",
            "max": 200,
            "_view_module": "@jupyter-widgets/controls",
            "_model_module_version": "1.5.0",
            "value": 200,
            "_view_count": null,
            "_view_module_version": "1.5.0",
            "orientation": "horizontal",
            "min": 0,
            "description_tooltip": null,
            "_model_module": "@jupyter-widgets/controls",
            "layout": "IPY_MODEL_9b914abb4805447dbe2e3dd2b5c00cbe"
          }
        },
        "46300ed667f44f89afee6dee7355dd16": {
          "model_module": "@jupyter-widgets/controls",
          "model_name": "HTMLModel",
          "state": {
            "_view_name": "HTMLView",
            "style": "IPY_MODEL_d691dfc93911493cb1da01d8651e7d18",
            "_dom_classes": [],
            "description": "",
            "_model_name": "HTMLModel",
            "placeholder": "​",
            "_view_module": "@jupyter-widgets/controls",
            "_model_module_version": "1.5.0",
            "value": " 200/200 [22:59&lt;00:00,  6.90s/it]",
            "_view_count": null,
            "_view_module_version": "1.5.0",
            "description_tooltip": null,
            "_model_module": "@jupyter-widgets/controls",
            "layout": "IPY_MODEL_618d3c1b1d2b47e093d198597c15a6f0"
          }
        },
        "d0b9fc3a13be4dacac5b7b7e29c87c64": {
          "model_module": "@jupyter-widgets/controls",
          "model_name": "ProgressStyleModel",
          "state": {
            "_view_name": "StyleView",
            "_model_name": "ProgressStyleModel",
            "description_width": "initial",
            "_view_module": "@jupyter-widgets/base",
            "_model_module_version": "1.5.0",
            "_view_count": null,
            "_view_module_version": "1.2.0",
            "bar_color": null,
            "_model_module": "@jupyter-widgets/controls"
          }
        },
        "9b914abb4805447dbe2e3dd2b5c00cbe": {
          "model_module": "@jupyter-widgets/base",
          "model_name": "LayoutModel",
          "state": {
            "_view_name": "LayoutView",
            "grid_template_rows": null,
            "right": null,
            "justify_content": null,
            "_view_module": "@jupyter-widgets/base",
            "overflow": null,
            "_model_module_version": "1.2.0",
            "_view_count": null,
            "flex_flow": null,
            "width": null,
            "min_width": null,
            "border": null,
            "align_items": null,
            "bottom": null,
            "_model_module": "@jupyter-widgets/base",
            "top": null,
            "grid_column": null,
            "overflow_y": null,
            "overflow_x": null,
            "grid_auto_flow": null,
            "grid_area": null,
            "grid_template_columns": null,
            "flex": null,
            "_model_name": "LayoutModel",
            "justify_items": null,
            "grid_row": null,
            "max_height": null,
            "align_content": null,
            "visibility": null,
            "align_self": null,
            "height": null,
            "min_height": null,
            "padding": null,
            "grid_auto_rows": null,
            "grid_gap": null,
            "max_width": null,
            "order": null,
            "_view_module_version": "1.2.0",
            "grid_template_areas": null,
            "object_position": null,
            "object_fit": null,
            "grid_auto_columns": null,
            "margin": null,
            "display": null,
            "left": null
          }
        },
        "d691dfc93911493cb1da01d8651e7d18": {
          "model_module": "@jupyter-widgets/controls",
          "model_name": "DescriptionStyleModel",
          "state": {
            "_view_name": "StyleView",
            "_model_name": "DescriptionStyleModel",
            "description_width": "",
            "_view_module": "@jupyter-widgets/base",
            "_model_module_version": "1.5.0",
            "_view_count": null,
            "_view_module_version": "1.2.0",
            "_model_module": "@jupyter-widgets/controls"
          }
        },
        "618d3c1b1d2b47e093d198597c15a6f0": {
          "model_module": "@jupyter-widgets/base",
          "model_name": "LayoutModel",
          "state": {
            "_view_name": "LayoutView",
            "grid_template_rows": null,
            "right": null,
            "justify_content": null,
            "_view_module": "@jupyter-widgets/base",
            "overflow": null,
            "_model_module_version": "1.2.0",
            "_view_count": null,
            "flex_flow": null,
            "width": null,
            "min_width": null,
            "border": null,
            "align_items": null,
            "bottom": null,
            "_model_module": "@jupyter-widgets/base",
            "top": null,
            "grid_column": null,
            "overflow_y": null,
            "overflow_x": null,
            "grid_auto_flow": null,
            "grid_area": null,
            "grid_template_columns": null,
            "flex": null,
            "_model_name": "LayoutModel",
            "justify_items": null,
            "grid_row": null,
            "max_height": null,
            "align_content": null,
            "visibility": null,
            "align_self": null,
            "height": null,
            "min_height": null,
            "padding": null,
            "grid_auto_rows": null,
            "grid_gap": null,
            "max_width": null,
            "order": null,
            "_view_module_version": "1.2.0",
            "grid_template_areas": null,
            "object_position": null,
            "object_fit": null,
            "grid_auto_columns": null,
            "margin": null,
            "display": null,
            "left": null
          }
        },
        "7159eba5961e4b368cde77263ccc9504": {
          "model_module": "@jupyter-widgets/controls",
          "model_name": "HBoxModel",
          "state": {
            "_view_name": "HBoxView",
            "_dom_classes": [],
            "_model_name": "HBoxModel",
            "_view_module": "@jupyter-widgets/controls",
            "_model_module_version": "1.5.0",
            "_view_count": null,
            "_view_module_version": "1.5.0",
            "box_style": "",
            "layout": "IPY_MODEL_61de24d80f884910bdd5d97a1bb62ca4",
            "_model_module": "@jupyter-widgets/controls",
            "children": [
              "IPY_MODEL_57193dec7f774d47a3eabae2af0c09c7",
              "IPY_MODEL_5fb759d316074246877659d2a67bd7ce"
            ]
          }
        },
        "61de24d80f884910bdd5d97a1bb62ca4": {
          "model_module": "@jupyter-widgets/base",
          "model_name": "LayoutModel",
          "state": {
            "_view_name": "LayoutView",
            "grid_template_rows": null,
            "right": null,
            "justify_content": null,
            "_view_module": "@jupyter-widgets/base",
            "overflow": null,
            "_model_module_version": "1.2.0",
            "_view_count": null,
            "flex_flow": null,
            "width": null,
            "min_width": null,
            "border": null,
            "align_items": null,
            "bottom": null,
            "_model_module": "@jupyter-widgets/base",
            "top": null,
            "grid_column": null,
            "overflow_y": null,
            "overflow_x": null,
            "grid_auto_flow": null,
            "grid_area": null,
            "grid_template_columns": null,
            "flex": null,
            "_model_name": "LayoutModel",
            "justify_items": null,
            "grid_row": null,
            "max_height": null,
            "align_content": null,
            "visibility": null,
            "align_self": null,
            "height": null,
            "min_height": null,
            "padding": null,
            "grid_auto_rows": null,
            "grid_gap": null,
            "max_width": null,
            "order": null,
            "_view_module_version": "1.2.0",
            "grid_template_areas": null,
            "object_position": null,
            "object_fit": null,
            "grid_auto_columns": null,
            "margin": null,
            "display": null,
            "left": null
          }
        },
        "57193dec7f774d47a3eabae2af0c09c7": {
          "model_module": "@jupyter-widgets/controls",
          "model_name": "FloatProgressModel",
          "state": {
            "_view_name": "ProgressView",
            "style": "IPY_MODEL_e2a26419eb44412899e891989af95398",
            "_dom_classes": [],
            "description": "100%",
            "_model_name": "FloatProgressModel",
            "bar_style": "success",
            "max": 200,
            "_view_module": "@jupyter-widgets/controls",
            "_model_module_version": "1.5.0",
            "value": 200,
            "_view_count": null,
            "_view_module_version": "1.5.0",
            "orientation": "horizontal",
            "min": 0,
            "description_tooltip": null,
            "_model_module": "@jupyter-widgets/controls",
            "layout": "IPY_MODEL_9d63967b95b440309e2734f04cbab50e"
          }
        },
        "5fb759d316074246877659d2a67bd7ce": {
          "model_module": "@jupyter-widgets/controls",
          "model_name": "HTMLModel",
          "state": {
            "_view_name": "HTMLView",
            "style": "IPY_MODEL_2c9d1b7fe5e04d2f9a99b62476dd11e6",
            "_dom_classes": [],
            "description": "",
            "_model_name": "HTMLModel",
            "placeholder": "​",
            "_view_module": "@jupyter-widgets/controls",
            "_model_module_version": "1.5.0",
            "value": " 200/200 [00:52&lt;00:00,  3.80it/s]",
            "_view_count": null,
            "_view_module_version": "1.5.0",
            "description_tooltip": null,
            "_model_module": "@jupyter-widgets/controls",
            "layout": "IPY_MODEL_d5e55ac6911d4c83a2b7098f7e6024ff"
          }
        },
        "e2a26419eb44412899e891989af95398": {
          "model_module": "@jupyter-widgets/controls",
          "model_name": "ProgressStyleModel",
          "state": {
            "_view_name": "StyleView",
            "_model_name": "ProgressStyleModel",
            "description_width": "initial",
            "_view_module": "@jupyter-widgets/base",
            "_model_module_version": "1.5.0",
            "_view_count": null,
            "_view_module_version": "1.2.0",
            "bar_color": null,
            "_model_module": "@jupyter-widgets/controls"
          }
        },
        "9d63967b95b440309e2734f04cbab50e": {
          "model_module": "@jupyter-widgets/base",
          "model_name": "LayoutModel",
          "state": {
            "_view_name": "LayoutView",
            "grid_template_rows": null,
            "right": null,
            "justify_content": null,
            "_view_module": "@jupyter-widgets/base",
            "overflow": null,
            "_model_module_version": "1.2.0",
            "_view_count": null,
            "flex_flow": null,
            "width": null,
            "min_width": null,
            "border": null,
            "align_items": null,
            "bottom": null,
            "_model_module": "@jupyter-widgets/base",
            "top": null,
            "grid_column": null,
            "overflow_y": null,
            "overflow_x": null,
            "grid_auto_flow": null,
            "grid_area": null,
            "grid_template_columns": null,
            "flex": null,
            "_model_name": "LayoutModel",
            "justify_items": null,
            "grid_row": null,
            "max_height": null,
            "align_content": null,
            "visibility": null,
            "align_self": null,
            "height": null,
            "min_height": null,
            "padding": null,
            "grid_auto_rows": null,
            "grid_gap": null,
            "max_width": null,
            "order": null,
            "_view_module_version": "1.2.0",
            "grid_template_areas": null,
            "object_position": null,
            "object_fit": null,
            "grid_auto_columns": null,
            "margin": null,
            "display": null,
            "left": null
          }
        },
        "2c9d1b7fe5e04d2f9a99b62476dd11e6": {
          "model_module": "@jupyter-widgets/controls",
          "model_name": "DescriptionStyleModel",
          "state": {
            "_view_name": "StyleView",
            "_model_name": "DescriptionStyleModel",
            "description_width": "",
            "_view_module": "@jupyter-widgets/base",
            "_model_module_version": "1.5.0",
            "_view_count": null,
            "_view_module_version": "1.2.0",
            "_model_module": "@jupyter-widgets/controls"
          }
        },
        "d5e55ac6911d4c83a2b7098f7e6024ff": {
          "model_module": "@jupyter-widgets/base",
          "model_name": "LayoutModel",
          "state": {
            "_view_name": "LayoutView",
            "grid_template_rows": null,
            "right": null,
            "justify_content": null,
            "_view_module": "@jupyter-widgets/base",
            "overflow": null,
            "_model_module_version": "1.2.0",
            "_view_count": null,
            "flex_flow": null,
            "width": null,
            "min_width": null,
            "border": null,
            "align_items": null,
            "bottom": null,
            "_model_module": "@jupyter-widgets/base",
            "top": null,
            "grid_column": null,
            "overflow_y": null,
            "overflow_x": null,
            "grid_auto_flow": null,
            "grid_area": null,
            "grid_template_columns": null,
            "flex": null,
            "_model_name": "LayoutModel",
            "justify_items": null,
            "grid_row": null,
            "max_height": null,
            "align_content": null,
            "visibility": null,
            "align_self": null,
            "height": null,
            "min_height": null,
            "padding": null,
            "grid_auto_rows": null,
            "grid_gap": null,
            "max_width": null,
            "order": null,
            "_view_module_version": "1.2.0",
            "grid_template_areas": null,
            "object_position": null,
            "object_fit": null,
            "grid_auto_columns": null,
            "margin": null,
            "display": null,
            "left": null
          }
        }
      }
    }
  },
  "cells": [
    {
      "cell_type": "markdown",
      "metadata": {
        "id": "6SWM8QY0WC7U"
      },
      "source": [
        "# Maze on Fire\n",
        "\n",
        "Intro to AI Project 1\n",
        "\n",
        "Reagan McFarland (rpm141), Alay Shah (acs286), Toshanraju Vysyaraju (tv135)\n",
        "\n",
        "Imports:\n",
        "- The only non standard import here is trange from tqdm, but all uses of `trange` can be replaced with `range` with no change in results - just no neat progress bar :) "
      ]
    },
    {
      "cell_type": "code",
      "metadata": {
        "id": "DSHpNDjlWC7e"
      },
      "source": [
        "# imports\n",
        "import matplotlib.pyplot as plt\n",
        "from matplotlib import cm\n",
        "from matplotlib.colors import ListedColormap, LinearSegmentedColormap\n",
        "from copy import deepcopy\n",
        "import random\n",
        "import numpy as np\n",
        "from tqdm.notebook import trange\n",
        "from tqdm.notebook import tqdm\n",
        "from queue import PriorityQueue, Queue\n",
        "from pprint import pprint\n",
        "import math"
      ],
      "execution_count": 3,
      "outputs": []
    },
    {
      "cell_type": "markdown",
      "metadata": {
        "id": "zIGM8naLWC7g"
      },
      "source": [
        "## Problem 1\n",
        "\n",
        "### Generating a maze\n",
        "\n",
        "When thinking about how we were going to generate the maze, we first wanted to figure out a good way to render the maze in `jupyter notebooks`. This led us to color maps in `matplotlib` using a custom color map, allowing us to mark nodes certain colors based on the value. This resulted in us going with a 2D list of boolean values, where:\n",
        "- `False` = open cell\n",
        "- `True` = occupied cell \n",
        "\n",
        "We also wanted to make it as easy as possible to reuse, so we have optional params `p` and `dim`, representing the obstacle density and dimension respecitively. We also have the optional params `start` and `goal` as a tuple, that we can use to force those spaces to be empty. These optional params get re-used in almost every function. This is all done in the function `gen_maze`."
      ]
    },
    {
      "cell_type": "code",
      "metadata": {
        "id": "nwCrS08YWC7g"
      },
      "source": [
        "# globals here\n",
        "DEFAULT_P = 0.1\n",
        "DEFAULT_DIM = 20\n",
        "DEFAULT_START = 0,0\n",
        "DEFAULT_GOAL = DEFAULT_DIM-1, DEFAULT_DIM-1\n",
        "\n",
        "def gen_maze(p=DEFAULT_P, dim=DEFAULT_DIM, start: tuple = DEFAULT_START, goal: tuple = DEFAULT_GOAL):\n",
        "    maze = [[random.random() <= p for _ in range(dim)] for _ in range(dim)]\n",
        "    sX, sY = start\n",
        "    gX, gY = goal\n",
        "    maze[sX][sY] = 0\n",
        "    maze[gX][gY] = 0\n",
        "    return maze"
      ],
      "execution_count": 4,
      "outputs": []
    },
    {
      "cell_type": "markdown",
      "metadata": {
        "id": "1KAdYQ0oWC7j"
      },
      "source": [
        "### Rendering a maze\n",
        "We also wanted a method to show a color map plot of our maze, and settled on the following function after reading the `matplotlib` docs.\n",
        "\n",
        "Notice that we can pass in the index as a tuple for both the start and end if needed. This is because we render these as gray instead of white / black making it easier to see the start and goal of the maze. These are optional params though of course. This is done in the function `render_maze`."
      ]
    },
    {
      "cell_type": "code",
      "metadata": {
        "id": "BLNgltS3WC7k"
      },
      "source": [
        "'''\n",
        "USE THIS FOR COLORING NODES:\n",
        "1 for obstacle\n",
        "0 for empty\n",
        ".5 for visited\n",
        "2 for fire\n",
        "-0.5 for path\n",
        "'''\n",
        "OBSTACLE = 1\n",
        "EMPTY = 0\n",
        "VISITED = 0.5\n",
        "FIRE = 2\n",
        "PATH = -0.5\n",
        "\n",
        "def render_maze(maze: list, start: tuple = DEFAULT_START, goal: tuple = DEFAULT_GOAL, fire: bool = False, traceNodes: bool= False, tracePath:bool = False, showValues: bool = False):\n",
        "    # change start and goal to be .5 so the color map makes them gray - easier to see on the render\n",
        "    # this works because even though our list is full of booleans, matplotlib treats them as 0's and 1's\n",
        "    sX, sY = start\n",
        "    gX, gY = goal\n",
        "    dim = len(maze)\n",
        "    maze[sX][sY], maze[gX][gY] = VISITED, VISITED\n",
        "    fig = plt.figure(figsize=(DEFAULT_DIM,DEFAULT_DIM), dpi=100)\n",
        "    ax = fig.add_subplot(222)\n",
        "    ax.set_xticks(np.arange(-0.5, dim, 1))\n",
        "    ax.set_yticks(np.arange(-0.5, dim, 1))\n",
        "    plt.tick_params(axis='x', which='both', bottom=False, top=False, labelbottom=False)\n",
        "    plt.tick_params(axis='y', which='both', left=False, right=False, labelleft=False) \n",
        "    ax.grid(which='major', axis='both', linestyle='-', color='0', linewidth=0.1)\n",
        "    ax.set_title('maze')\n",
        "    a = np.array(maze)\n",
        "    c = [[0,255,255,255],[1,0,0,0],[.5,128,128,128]]#create custom color map\n",
        "    if fire: \n",
        "         c.append([FIRE,225,0,0]) # if there is a fire add the fire color\n",
        "    if traceNodes:\n",
        "        c.append([-1,0,255,0]) #if we need to traceNodes, add the trace color\n",
        "    ca = np.array(c)\n",
        "    colors = ca[ca[:,0].argsort()][:,1:]/255.\n",
        "    cmap = ListedColormap(colors)\n",
        "\n",
        "    # optional value settings\n",
        "    if showValues:\n",
        "      for (i,j), z in np.ndenumerate(maze):\n",
        "        ax.text(j,i, str(z), ha='center', va='center')\n",
        "\n",
        "    plt.imshow(a, cmap=cmap)\n",
        "\n",
        "    # change back\n",
        "    maze[sX][sY], maze[gX][gY] = EMPTY, EMPTY"
      ],
      "execution_count": 5,
      "outputs": []
    },
    {
      "cell_type": "markdown",
      "metadata": {
        "id": "9WaqvqSWWC7k"
      },
      "source": [
        "Putting these together, we can generate an example maze with `p=0.3` and `dim=20`"
      ]
    },
    {
      "cell_type": "code",
      "metadata": {
        "colab": {
          "base_uri": "https://localhost:8080/",
          "height": 745
        },
        "id": "VUY00uZqWC7k",
        "outputId": "52ab80d2-6587-4a26-86a0-41f770779aec"
      },
      "source": [
        "example_maze = gen_maze()\n",
        "# example_maze2 = gen_maze(0.5, 50) # we could also do this if we wanted to specify the object density and dimensions explicitly\n",
        "render_maze(example_maze)"
      ],
      "execution_count": 6,
      "outputs": [
        {
          "output_type": "display_data",
          "data": {
            "image/png": "[encoded data removed]",
            "text/plain": [
              "<Figure size 2000x2000 with 1 Axes>"
            ]
          },
          "metadata": {
            "tags": []
          }
        }
      ]
    },
    {
      "cell_type": "markdown",
      "metadata": {
        "id": "dIdaWxUmWC7m"
      },
      "source": [
        "## Problem 2\n",
        "\n",
        "### Our DFS Algorithm\n",
        "DFS is a very rudimentary search algorithm, with the only real decision to be made when implementing is whether or not you want to a recursive or iterative approach. We decided to go with a iterative approach just because its easier to transform into BFS later. We also have optional params here for our start and end cell indexes because our start and end goals are pre-determined for most of our test cases, but can be changed if needed with little alteration. We also have a traceNodes optional parameter which will highlight then nodes visited whenever we pass the maze to `render_maze()`. All this is implemented in the function `DFSUninformed`.\n",
        " "
      ]
    },
    {
      "cell_type": "code",
      "metadata": {
        "id": "FzZqowmCWC7m"
      },
      "source": [
        "def DFSUninformed(maze, start: tuple = DEFAULT_START, goal: tuple = DEFAULT_GOAL, traceNodes: bool = False):\n",
        "    #fringe\n",
        "    stack = [] \n",
        "    maze_dim = len(maze)\n",
        "    #keeps track of which cells are added to the fringe\n",
        "    visited = [[0 for _ in range(maze_dim)] for _ in range(maze_dim)]\n",
        "    sX, sY = start\n",
        "    gX, gY = goal\n",
        "    stack.append([sX, sY])\n",
        "    #while the stack still has cells in it\n",
        "    while stack:\n",
        "        loc = stack.pop()\n",
        "        visited[loc[0]][loc[1]] = OBSTACLE\n",
        "        \n",
        "        if traceNodes:\n",
        "            maze[loc[0]][loc[1]] = VISITED\n",
        "        \n",
        "        #if we have reached the goal\n",
        "        if loc[0] == gX and loc[1] == gY: \n",
        "            return True\n",
        "        \n",
        "        #delta array to visit all immediate neighbors\n",
        "        horz = [1,-1,0,0]\n",
        "        vert = [0,0,1,-1]\n",
        "        #go through all neighbors\n",
        "        for i in range(4):\n",
        "            nX = loc[0]+vert[i]\n",
        "            nY = loc[1]+horz[i]\n",
        "            if nX < maze_dim and nX >= 0 and nY < maze_dim and nY >= 0: #if the coordinates are in the maze\n",
        "                if maze[nX][nY] != 1 and maze[nX][nY]!= 2 and visited[nX][nY] != 1: #if the cell is not an obstacle/ on fire and if it hasnt been visited\n",
        "                        stack.append([nX,nY])  #add to fringe \n",
        "    return False #if we have exhausted the fringe, then we cannot reach the goal"
      ],
      "execution_count": 7,
      "outputs": []
    },
    {
      "cell_type": "markdown",
      "metadata": {
        "id": "F7tHOmA1WC7n"
      },
      "source": [
        "### Why is DFS a better choice than BFS here?\n",
        "DFS is a better choice than BFS here because we do not need to find an optimal path. This allows us to save on the space complexity as our fringe is exponentially smaller as we proved in class. In addition, we know the goal node to be the furthest point from the start, i.e. the deepest part of the graph. DFS benefits greatly because it goes further down one path rather than exploring all neighbors, like BFS. Therefore as DFS searches for the 'deepest' node, it is a much better option in this scenario. "
      ]
    },
    {
      "cell_type": "markdown",
      "metadata": {
        "id": "u02G6onnWC7n"
      },
      "source": [
        "### Obstacle Density `p` vs. Probabilty that `S` can be reached from `G`\n",
        "\n",
        "Our machine could handle dimension of 100 with 100 samples per object density `p` we test. We are testing all `p` between `0` and `1`, with a step of `0.1` for each iteration."
      ]
    },
    {
      "cell_type": "code",
      "metadata": {
        "colab": {
          "base_uri": "https://localhost:8080/",
          "height": 376,
          "referenced_widgets": [
            "9cf914e1d187416fa9ea2853da109bfe",
            "95fabf8da8ad49d1a0b045f29efd5a1d",
            "44a45afc1195419d8899d2134494431e",
            "fa7f5a55397c4bbd8d59507f6477c287",
            "c53a97a1afa445488de20c6df145770f",
            "a428bba91c48475d8811c2be39d72cad",
            "48d365cb7fe34c85bf85ad533ea8aebf",
            "9e119204663f4b069142cf303fd0d357"
          ]
        },
        "id": "9a5q4Rc0WC7o",
        "outputId": "5b89b64d-34bb-4671-a843-0876147a0e42"
      },
      "source": [
        "# Settings\n",
        "SAMPLE_COUNT = 100\n",
        "STEP = 0.05\n",
        "DIMENSION = 100\n",
        "\n",
        "# Code to generate graph \n",
        "densities = np.arange(0, 1, STEP).tolist()\n",
        "successes = dict()\n",
        "maze = None\n",
        "density_count = len(densities)\n",
        "with tqdm(total=density_count * SAMPLE_COUNT) as pbar:\n",
        "    for i in range(len(densities)): \n",
        "        p = densities[i]\n",
        "        if p not in successes:\n",
        "            successes[p] = 0\n",
        "        for j in range(SAMPLE_COUNT):\n",
        "            maze = gen_maze(p,DIMENSION)\n",
        "            successes[p] += DFSUninformed(maze)\n",
        "            pbar.update(1)\n",
        "\n",
        "x_axis = densities\n",
        "y_axis = [successes[x] / SAMPLE_COUNT for x in densities]\n",
        "\n",
        "plt.xlabel(\"obstacle density p\")\n",
        "plt.ylabel(\"probability S can reach G\")\n",
        "plt.title(\"probability S can reach G vs. obstacle density p \\n (dim=\" + str(DEFAULT_DIM) + \", samples=\" + str(SAMPLE_COUNT) + \" with step=\" + str(STEP) + \")\")\n",
        "plt.plot(x_axis, y_axis)\n"
      ],
      "execution_count": 8,
      "outputs": [
        {
          "output_type": "display_data",
          "data": {
            "application/vnd.jupyter.widget-view+json": {
              "model_id": "9cf914e1d187416fa9ea2853da109bfe",
              "version_minor": 0,
              "version_major": 2
            },
            "text/plain": [
              "HBox(children=(FloatProgress(value=0.0, max=2000.0), HTML(value='')))"
            ]
          },
          "metadata": {
            "tags": []
          }
        },
        {
          "output_type": "stream",
          "text": [
            "\n"
          ],
          "name": "stdout"
        },
        {
          "output_type": "execute_result",
          "data": {
            "text/plain": [
              "[<matplotlib.lines.Line2D at 0x7fd6b3431978>]"
            ]
          },
          "metadata": {
            "tags": []
          },
          "execution_count": 8
        },
        {
          "output_type": "display_data",
          "data": {
            "image/png": "[encoded data removed]",
            "text/plain": [
              "<Figure size 432x288 with 1 Axes>"
            ]
          },
          "metadata": {
            "tags": [],
            "needs_background": "light"
          }
        }
      ]
    },
    {
      "cell_type": "markdown",
      "metadata": {
        "id": "UQtvQJ7IWC7s"
      },
      "source": [
        "## Problem 3\n",
        "\n",
        "### Our BFS Algorithm\n",
        "\n",
        "BFS implements a queue instead of a stack in order to visit all neighbors before visiting children. This is done in our function `BFSUninformed` which returns if the goal is reached, the number of visited cells, the length of the path to the goal, and the actual path it took."
      ]
    },
    {
      "cell_type": "markdown",
      "metadata": {
        "id": "EumDcBkpYEN5"
      },
      "source": [
        "Before we begin, we first wanted to define a function `trace_path` that would trace the optimal path so we could visually see it on our graph. It will also return the length of the optimal path and the actual path it self (in a stack)."
      ]
    },
    {
      "cell_type": "code",
      "metadata": {
        "id": "w-vLKo8gYTbf"
      },
      "source": [
        "#returns the path length, the maze and the actual path found by BFS or A*\n",
        "def trace_path(maze: list, previous:list, loc:list, start:tuple= DEFAULT_START, traceNodes: bool = False): \n",
        "    pLen = 0\n",
        "    sX,sY = start\n",
        "    stack = []\n",
        "    color = PATH\n",
        "    while True:\n",
        "        stack.append(loc)\n",
        "        lX,lY= loc\n",
        "        if lX == sX and lY == sY:\n",
        "            if traceNodes :\n",
        "              maze[sX][sY] = color\n",
        "            return pLen, maze, stack\n",
        "        pLen=pLen+1\n",
        "        if traceNodes:\n",
        "          maze[lX][lY] = color\n",
        "        loc = previous[lX][lY]"
      ],
      "execution_count": 9,
      "outputs": []
    },
    {
      "cell_type": "code",
      "metadata": {
        "id": "yYYE3fHwWC7s"
      },
      "source": [
        "#returns if the goal was reached(T/F), number of visited cells, the length of the path to the goal, and the actual path\n",
        "def BFSUninformed(maze:list, start: tuple = DEFAULT_START, goal: tuple = DEFAULT_GOAL, traceNodes: bool = False):\n",
        "    dim = len(maze)\n",
        "    queue = [] #set fringe\n",
        "    #keeps track of which nodes that have been in the fringe\n",
        "    visited = [[0 for _ in range(dim)] for _ in range(dim)]\n",
        "    #keeps track of parent nodes \n",
        "    previous = [[0 for _ in range(dim)] for _ in range(dim)]\n",
        "    \n",
        "    gX, gY = goal\n",
        "    sX, sY = start\n",
        "    \n",
        "    queue.append(start)\n",
        "    \n",
        "    loc = start\n",
        "    #start has been added to fringe\n",
        "    visited[sX][sY] = 1\n",
        "    #keeps track of the number of nodes visited\n",
        "    numVisited = 0\n",
        "    #have we reached the goal \n",
        "    goalHit = False\n",
        "    \n",
        "    while queue:\n",
        "        \n",
        "        numVisited= numVisited+1 #increment number of visited nodes\n",
        "        \n",
        "        loc = queue.pop(0) #pull from fringe\n",
        "        \n",
        "        if(loc[0]==gX and loc[1]==gY): #we have reached G\n",
        "            goalHit = True\n",
        "            break\n",
        "       \n",
        "        \n",
        "        if traceNodes:\n",
        "            maze[loc[0]][loc[1]] = VISITED\n",
        "        \n",
        "        #delta array\n",
        "        horz = [1,0,0,-1]\n",
        "        vert = [0,-1,1,0]\n",
        "        \n",
        "        #visit children\n",
        "        for i in range(4):\n",
        "            nX = loc[0]+horz[i]\n",
        "            nY = loc[1]+vert[i]\n",
        "            if nX < len(maze) and nX >= 0 and nY < len(maze) and nY >= 0: #in the maze\n",
        "                if maze[nX][nY] != 1 and maze[nX][nY]!=2 and visited[nX][nY] != 1: #isn't an obstacle and hasnt been added to the fringe and isnt on fire\n",
        "                    visited[nX][nY] = 1 #set added to fringe to true\n",
        "                    previous[nX][nY] = loc #set the parent of node in prev array\n",
        "                    queue.append([nX,nY]) #add to fringe\n",
        "    pLen, maze, path = trace_path(maze, previous, loc, traceNodes=traceNodes, start=start) #traces path and returns the length of the optimal path found\n",
        "    return goalHit, numVisited, pLen, path"
      ],
      "execution_count": 10,
      "outputs": []
    },
    {
      "cell_type": "markdown",
      "metadata": {
        "id": "r4FlPKQ8WC7t"
      },
      "source": [
        "### Our A* Algorithm\n",
        "\n",
        "Before we implement our `A*` algorithm, we need to define a function that can give us the euclidean distance between a cell and the goal cell. This is done in the function `euclid`."
      ]
    },
    {
      "cell_type": "code",
      "metadata": {
        "id": "KwzFPvjdWC7t"
      },
      "source": [
        "def euclid(position: tuple, goal: tuple = DEFAULT_GOAL): #calculated euclidean distance\n",
        "    x, y = position\n",
        "    gX, gY = goal\n",
        "    return math.sqrt(((x-gX)*(x-gX)) + ((y-gY)*(y-gY)))"
      ],
      "execution_count": 11,
      "outputs": []
    },
    {
      "cell_type": "markdown",
      "metadata": {
        "id": "eDAaRfjwWC7u"
      },
      "source": [
        "With the heuristic defined, we can now write the A* algorithm in the function `AStar` using almost the same functionality as BFS. However, we are using a `PriorityQueue` instead of a normal queue. The priority queue orders cells with a lower cost based on the heuristic and actual cost from low to high."
      ]
    },
    {
      "cell_type": "code",
      "metadata": {
        "id": "mZnPuV98WC7w"
      },
      "source": [
        "#returns if the goal was reached(T/F), number of visited cells, the length of the path to the goal, and the actual path\n",
        "def AStar(maze: list,start: tuple = DEFAULT_START, goal: tuple = DEFAULT_GOAL, traceNodes: bool = False ):\n",
        "    \n",
        "    dim = len(maze)\n",
        "    #keeps track of the nodes that have already been visited\n",
        "    visited = [[0 for _ in range(dim)] for _ in range(dim)]\n",
        "    #keeps track of cost to reach the node i,j\n",
        "    costs = [[0 for _ in range(dim)] for _ in range(dim)]\n",
        "    #keeps track of the parent node of each node\n",
        "    previous = [[0 for _ in range(dim)] for _ in range(dim)]\n",
        "    \n",
        "    sX, sY = start\n",
        "    gX, gY = goal\n",
        "    loc = start\n",
        "    \n",
        "    #init heap\n",
        "    heap = PriorityQueue()\n",
        "    #put start in the heap\n",
        "    heap.put((euclid(start, goal), start))\n",
        "    \n",
        "    #start node cost = 0\n",
        "    costs[sX][sY] = 0\n",
        "    #we added start to fringe\n",
        "    visited[sX][sY] = 1\n",
        "    \n",
        "    #keeps track of number of visited nodes\n",
        "    numVisited = 0\n",
        "    \n",
        "    #if goal node is reached\n",
        "    goalHit = False\n",
        "    \n",
        "    while not heap.empty():\n",
        "        \n",
        "        numVisited = numVisited + 1 #increment # visited nodes \n",
        "        \n",
        "        _,loc = heap.get() #get loc of the least est cost node\n",
        "        \n",
        "        if(loc[0]==gX and loc[1]==gY): #if Goal is reached\n",
        "            goalHit=True\n",
        "            break\n",
        "        \n",
        "        childCost = costs[loc[0]][loc[1]] + 1  #children = actual cost of parent + 1\n",
        "        \n",
        "        if traceNodes: \n",
        "            maze[loc[0]][loc[1]] = 0.5 \n",
        "        \n",
        "        #delta arrays\n",
        "        horz = [1,0,0,-1]\n",
        "        vert = [0,-1,1,0]\n",
        "\n",
        "        #visit children\n",
        "        for i in range(4):\n",
        "            nX = loc[0]+horz[i]\n",
        "            nY = loc[1]+vert[i]\n",
        "            if nX < len(maze) and nX >= 0 and nY < len(maze) and nY >= 0: #in maze\n",
        "                if maze[nX][nY] != 1 and maze[nX][nY] != 2 and visited[nX][nY] != 1: #not obstacle and not added to fringe yet\n",
        "                    visited[nX][nY] = 1 #added to fringe True\n",
        "                    previous[nX][nY] = loc #set parent \n",
        "                    costs[nX][nY] = childCost #set actual cost\n",
        "                    totalEstC = euclid((nX,nY), goal)+childCost #heurestic+ actual cost\n",
        "                    heap.put((totalEstC, [nX,nY])) #add to fringe\n",
        "\n",
        "    pLen, maze, path = trace_path(maze, previous, loc, traceNodes=traceNodes , start=start) #traces optimal path and gives length of optimal path\n",
        "    return goalHit, numVisited, pLen, path"
      ],
      "execution_count": 12,
      "outputs": []
    },
    {
      "cell_type": "markdown",
      "metadata": {
        "id": "AkMNQ60YWC7z"
      },
      "source": [
        "We can view a random example of how the number of nodes A* visits vs. BFS differs. In the below mazes, the grey represents cells that were visited and the green represents the optimal path returned. The white cells are the cells which are not visited. It is important to note that there are multiple optimal paths and so the BFS path may not be identical to the A\\* path but they both have identical length."
      ]
    },
    {
      "cell_type": "code",
      "metadata": {
        "colab": {
          "base_uri": "https://localhost:8080/",
          "height": 1000
        },
        "id": "KYzOlq_xWC7z",
        "outputId": "6de89cbe-baf8-4106-936c-27325aa1f6e5"
      },
      "source": [
        "maze_bfs = gen_maze(0.2, 200)\n",
        "maze_astar = deepcopy(maze_bfs)\n",
        "goal=(len(maze_bfs)-1, len(maze_bfs)-1)\n",
        "bfs = BFSUninformed(maze_bfs, goal=goal, traceNodes=True)\n",
        "astar = AStar(maze_astar,goal=goal, traceNodes=True)\n",
        "print(\"BFS Nodes Visited = \" + str(bfs[0:3]))\n",
        "render_maze(maze=maze_bfs, goal=goal, traceNodes=True)\n",
        "print(\"A* Nodes Visited = \" + str(astar[0:3]))\n",
        "render_maze(maze=maze_astar, goal=goal, traceNodes=True)"
      ],
      "execution_count": 13,
      "outputs": [
        {
          "output_type": "stream",
          "text": [
            "BFS Nodes Visited = (True, 31817, 398)\n",
            "A* Nodes Visited = (True, 30244, 398)\n"
          ],
          "name": "stdout"
        },
        {
          "output_type": "display_data",
          "data": {
            "image/png": "[encoded data removed]",
            "text/plain": [
              "<Figure size 2000x2000 with 1 Axes>"
            ]
          },
          "metadata": {
            "tags": []
          }
        },
        {
          "output_type": "display_data",
          "data": {
            "image/png": "[encoded data removed]",
            "text/plain": [
              "<Figure size 2000x2000 with 1 Axes>"
            ]
          },
          "metadata": {
            "tags": []
          }
        }
      ]
    },
    {
      "cell_type": "markdown",
      "metadata": {
        "id": "IBmuiNFCWC70"
      },
      "source": [
        "### Number of nodes explored by BFS - number of nodes explored by A* vs. obstacle density `p`\n",
        "\n",
        "In order to graph this, we are going to use the same assumption for the last graph about sample sizes, steps, etc. On top of this, we are going to create a function that for every single sample, will do the following:\n",
        "1. Generate a new maze\n",
        "2. Run BFS and record the number of nodes explored\n",
        "3. Run A* and record the number of nodes explored\n",
        "\n",
        "Then, at the end we will average these out across the steps and graph it using matplotlib. First, let's create that function `diff_AStar_BFS` that will do all the 3 steps above."
      ]
    },
    {
      "cell_type": "code",
      "metadata": {
        "id": "VXYDF1zvWC71"
      },
      "source": [
        "def diff_AStar_BFS(p=DEFAULT_P, dim=DEFAULT_DIM): #returns the difference between the number of visited nodes for a given maze for A* and BFS\n",
        "    goal = (dim-1, dim-1)\n",
        "    new_maze = gen_maze(p, dim)\n",
        "    bfs_result, bfs_visited_nodes, bfs_path_length, bfs_path = BFSUninformed(new_maze, goal=goal)\n",
        "    astar_result, astar_visited_nodes, astar_path_length, astar_path = AStar(new_maze, goal=goal) \n",
        "    return bfs_visited_nodes - astar_visited_nodes"
      ],
      "execution_count": 14,
      "outputs": []
    },
    {
      "cell_type": "markdown",
      "metadata": {
        "id": "TrQsuR83WC71"
      },
      "source": [
        "Now, let's write some code to generate to generate the data for the graph and then also render it, just like before."
      ]
    },
    {
      "cell_type": "code",
      "metadata": {
        "colab": {
          "base_uri": "https://localhost:8080/",
          "height": 376,
          "referenced_widgets": [
            "80e85de229d44d1ea151912d73e76b0d",
            "20389082a62941078c7d18abfec01da3",
            "8f2bd133b6744809bc0b82165e6f4a8d",
            "98215059ff904590b4062230c5bb99d6",
            "ce0cff32aff84f1fa4a4173976a0fa67",
            "79ec91cbee8a400898da62585eb983db",
            "6e9766f5ce0a4314861f5b4a81c8e7c6",
            "0eb6d7fce8dc4e8f985dc5bf4ba83d06"
          ]
        },
        "id": "_WrosnPpWC72",
        "outputId": "17f75c5d-91be-47f6-c3c5-2af72d704e1d"
      },
      "source": [
        "# Settings\n",
        "SAMPLE_COUNT = 100\n",
        "STEP = 0.05\n",
        "DIMENSION = 100\n",
        "\n",
        "# Code to generate graph \n",
        "densities = np.arange(0, 1, STEP).tolist()\n",
        "successes = dict()\n",
        "density_count = len(densities)\n",
        "with tqdm(total=density_count * SAMPLE_COUNT) as pbar:\n",
        "    for i in range(len(densities)): \n",
        "        p = densities[i]\n",
        "        if p not in successes:\n",
        "            successes[p] = 0\n",
        "        for j in range(SAMPLE_COUNT):\n",
        "            successes[p] += diff_AStar_BFS(p, DIMENSION)\n",
        "            pbar.update(1)\n",
        "\n",
        "x_axis = densities\n",
        "y_axis = [successes[x] / SAMPLE_COUNT for x in densities]\n",
        "\n",
        "plt.xlabel(\"obstacle density p\")\n",
        "plt.ylabel(\"Nodes Visited BFS - Nodes Visited A*\")\n",
        "plt.title(\"BFS - A* vs. object density p \\n (dim=\" + str(DIMENSION) + \", samples=\" + str(SAMPLE_COUNT) + \" with step=\" + str(STEP) + \")\")\n",
        "plt.plot(x_axis, y_axis)\n"
      ],
      "execution_count": 22,
      "outputs": [
        {
          "output_type": "display_data",
          "data": {
            "application/vnd.jupyter.widget-view+json": {
              "model_id": "80e85de229d44d1ea151912d73e76b0d",
              "version_minor": 0,
              "version_major": 2
            },
            "text/plain": [
              "HBox(children=(FloatProgress(value=0.0, max=2000.0), HTML(value='')))"
            ]
          },
          "metadata": {
            "tags": []
          }
        },
        {
          "output_type": "stream",
          "text": [
            "\n"
          ],
          "name": "stdout"
        },
        {
          "output_type": "execute_result",
          "data": {
            "text/plain": [
              "[<matplotlib.lines.Line2D at 0x7fd6b1f15128>]"
            ]
          },
          "metadata": {
            "tags": []
          },
          "execution_count": 22
        },
        {
          "output_type": "display_data",
          "data": {
            "image/png": "[encoded data removed]",
            "text/plain": [
              "<Figure size 432x288 with 1 Axes>"
            ]
          },
          "metadata": {
            "tags": [],
            "needs_background": "light"
          }
        }
      ]
    },
    {
      "cell_type": "markdown",
      "metadata": {
        "id": "lV36eefGWC72"
      },
      "source": [
        "### If there is no path from S to G, what should this difference be?\n",
        "If there is no path, then the difference will be 0. This is because both algorithms will have to check all the same nodes before it can 100% be sure that there is no path. Both algorithms are using a queue, its just that A* will probably get there faster because its using a priority queue with a heuristic. The algorithm cannot know that the path is blocked and the heurestic is rendered useless, so in both cases, it will explore each possibility in hopes of finding the goal node. Therefore, the difference in the number of nodes traversed for each algorithm will be the same when there is no path."
      ]
    },
    {
      "cell_type": "markdown",
      "metadata": {
        "id": "-g9rK30SWC72"
      },
      "source": [
        "## Problem 4"
      ]
    },
    {
      "cell_type": "markdown",
      "metadata": {
        "id": "37FB_kjoWC73"
      },
      "source": [
        "### What's the largest dimension you can solve using DFS at `p=0.3` in less than a minute?"
      ]
    },
    {
      "cell_type": "code",
      "metadata": {
        "id": "hKUKuJSmWC74"
      },
      "source": [
        "DFS_LARGEST_DIM = 4350\n",
        "dfs_goal = (DFS_LARGEST_DIM-1, DFS_LARGEST_DIM-1)\n",
        "dfs_maze = gen_maze(0.3, DFS_LARGEST_DIM, start=(0,0), goal=dfs_goal)"
      ],
      "execution_count": null,
      "outputs": []
    },
    {
      "cell_type": "code",
      "metadata": {
        "id": "rUQebyRaWC74"
      },
      "source": [
        "%%time\n",
        "DFSUninformed(dfs_maze, goal=(DFS_LARGEST_DIM-1, DFS_LARGEST_DIM-1), traceNodes=True)"
      ],
      "execution_count": null,
      "outputs": []
    },
    {
      "cell_type": "markdown",
      "metadata": {
        "id": "1dzfeMW2WC77"
      },
      "source": [
        "**Through trial and error, we found that the largest maze with density `p=0.3` that we can will solve is around 4350x4350**"
      ]
    },
    {
      "cell_type": "markdown",
      "metadata": {
        "id": "dCOJakC1WC79"
      },
      "source": [
        "### What's the largest dimension you can solve using BFS at `p=0.3` in less than a minute?"
      ]
    },
    {
      "cell_type": "code",
      "metadata": {
        "id": "877GmnTiWC79"
      },
      "source": [
        "BFS_LARGEST_DIM = 4500\n",
        "bfs_goal = (BFS_LARGEST_DIM-1,BFS_LARGEST_DIM-1)\n",
        "bfs_maze = gen_maze(0.3, BFS_LARGEST_DIM, start=(0,0), goal=bfs_goal)"
      ],
      "execution_count": null,
      "outputs": []
    },
    {
      "cell_type": "code",
      "metadata": {
        "id": "ynJkAEzyWC79"
      },
      "source": [
        "%%time\n",
        "bfs_res = BFSUninformed(bfs_maze, goal=(BFS_LARGEST_DIM-1, BFS_LARGEST_DIM-1), traceNodes=True)\n",
        "print(bfs_res)"
      ],
      "execution_count": null,
      "outputs": []
    },
    {
      "cell_type": "markdown",
      "metadata": {
        "id": "x33YKhtvWC7-"
      },
      "source": [
        "**Through trial and error, we found that the largest maze with density `p=0.3` that we can will solve is around 4500x4500**"
      ]
    },
    {
      "cell_type": "markdown",
      "metadata": {
        "id": "XCWDoG9zWC7-"
      },
      "source": [
        "### What's the largest dimension you can solve using A* at `p=0.3` in less than a minute?"
      ]
    },
    {
      "cell_type": "code",
      "metadata": {
        "id": "-EqkRh8iWC8A"
      },
      "source": [
        "ASTAR_LARGEST_DIM = 14000\n",
        "a_goal = (ASTAR_LARGEST_DIM-1, ASTAR_LARGEST_DIM-1)\n",
        "a_maze = gen_maze(0.3, ASTAR_LARGEST_DIM, goal=a_goal)"
      ],
      "execution_count": null,
      "outputs": []
    },
    {
      "cell_type": "code",
      "metadata": {
        "id": "Ph_ytlAoWC8D"
      },
      "source": [
        "%%time\n",
        "res = AStar(a_maze, goal=a_goal, traceNodes=True)\n",
        "print(res)"
      ],
      "execution_count": null,
      "outputs": []
    },
    {
      "cell_type": "markdown",
      "metadata": {
        "id": "xjLjGIeAWC8E"
      },
      "source": [
        "**Through trial and error, we found that the largest maze with density `p=0.3` that we can solve is around 15000x15000**"
      ]
    },
    {
      "cell_type": "markdown",
      "metadata": {
        "id": "TJ4HHVNt4Bdm"
      },
      "source": [
        "###Consider, as you solve these three problems, simple diagnostic criteria to make sure you areon track. The path returned by DFS should never be shorter than the path returned by BFS.The path returned by A\\* should not be shorter than the path returned by BFS. How big can andshould your fringe be at any point during these algorithms?\n",
        "In the maze, each node has at most 4 neighbors (up, down, left, right). In class we derived the space complexity of the fringes. Here, we will treat A\\* and BFS as the same, since we are dealing with worst case (i.e. $h(n)$ is the same for all nodes). Let $n$ be the size of the maze. Then we arrive at a space complexity of $O(4n)$ for DFS. However, in the case of BFS and A\\*, the space complexity of our fringe will be $O(4^n)$.  At runtime, the A\\* algorithm might have a fringe smaller than $O(4^n)$ as it only explores the nodes that bring it closer to the goal node, but ultimately it is also bounded by a space complexity of $O(4^n)$."
      ]
    },
    {
      "cell_type": "markdown",
      "metadata": {
        "id": "uKwTsJ3IinOJ"
      },
      "source": [
        "# Part 2 Maze on Fire\n",
        "Looking at non-static mazes, there is a fire that is acitvely burning down and we need to get out before running into the fire. Solving for the current state may not work for future states of the maze. \n"
      ]
    },
    {
      "cell_type": "markdown",
      "metadata": {
        "id": "MnAP4XOUHodJ"
      },
      "source": [
        "##Generating a maze\n",
        "We decided to re-use our `gen_maze(dim, p)` function to create the maze and then choose a random cell to be on fire. To ensure that the goal and start nodes are not the starting points of the fire, we used a function `randomFirestart(dim)` to properly pick the starting point of the fire. We then use the method `gen_fireMaze` to generate a maze with a random fire start cell."
      ]
    },
    {
      "cell_type": "code",
      "metadata": {
        "id": "r6itRkSFIgWD"
      },
      "source": [
        "def randomFireStart(dim):\n",
        "    #select random x, y coordinates on the maze\n",
        "    x = random.randint(0,dim-1)  \n",
        "    y = random.randint(0,dim-1)\n",
        "    if x == 0 and y == 0 or x == dim-1 or y==dim-1: #if we choose the start or end of the maze randomly, use another random point\n",
        "        return randomFireStart(dim)\n",
        "    return x,y"
      ],
      "execution_count": 16,
      "outputs": []
    },
    {
      "cell_type": "markdown",
      "metadata": {
        "id": "eBwijvjwJXqX"
      },
      "source": [
        "Putting it all together."
      ]
    },
    {
      "cell_type": "code",
      "metadata": {
        "id": "XezJ3GFGJfKz"
      },
      "source": [
        "def gen_fireMaze(dim = DEFAULT_DIM, p = DEFAULT_P): #dimensions, prob obstacle, prob fire spread\n",
        "    #create maze\n",
        "    maze = gen_maze(p, dim, goal=(dim-1,dim-1))\n",
        "    #random tile where fire starts\n",
        "    fire = randomFireStart(dim)\n",
        "    maze[fire[0]][fire[1]] = 2 #fire flag\n",
        "    return maze, fire"
      ],
      "execution_count": 17,
      "outputs": []
    },
    {
      "cell_type": "markdown",
      "metadata": {
        "id": "a8HWUwoBJwT4"
      },
      "source": [
        "###Expanding the fire\n",
        "We create a matrix that houses the current state of the fire, and based on that will determine which cells will be on fire in the method `expandFireOneStep`, using the stated parameters:\n",
        "\n",
        "\n",
        "*   If a free cell has no burning neighbors, it will still be free in the next time step.\n",
        "* If a cell is on fire, it will still be on fire in the next time step.\n",
        "* A blocked cell cannot catch on fire.\n",
        "* If a free cell has $k$ burning neighbors, it will be on fire in the next time step with probability $1 − (1 − q)^k$\n",
        "\n",
        "\n",
        "\n"
      ]
    },
    {
      "cell_type": "code",
      "metadata": {
        "id": "66E3iN-uKybx"
      },
      "source": [
        "def expandFireOneStep(maze:list,q, start: tuple = DEFAULT_START, goal:tuple = DEFAULT_GOAL):\n",
        "  dim = len(maze)\n",
        "  fire = 2 #fire flag\n",
        "  #generates the current state of the fire\n",
        "  firePos = [[0 for _ in range(dim)] for _ in range(dim)]\n",
        "  for i in range(dim):\n",
        "    for j in range(dim):\n",
        "      if(maze[i][j]==fire):\n",
        "        firePos[i][j]=fire\n",
        "    \n",
        "  #expanding the fire one step\n",
        "  for i in range(dim):\n",
        "    for j in range(dim):\n",
        "      # if the cell is already on fire or is an obstacle, skip\n",
        "      if(maze[i][j]==fire or maze[i][j]==1): \n",
        "        continue\n",
        "            \n",
        "      #count num of neighbors on fire\n",
        "      k = 0 \n",
        "      horz = [1,-1,0,0]\n",
        "      vert = [0,0,1,-1]\n",
        "      for m in range(4):\n",
        "        nX = i + vert[m]\n",
        "        nY = j + horz[m]\n",
        "        if(nX<len(maze) and nX>=0 and nY<len(maze) and nY>=0): #check if coordinates are in the maze\n",
        "          if(firePos[nX][nY]==fire): #if neighbor is on fire, increment count\n",
        "            k = k+1\n",
        "      prob = 1-((1-q)**k) #prob of fire as defined\n",
        "      if(random.random()<=prob): \n",
        "        maze[i][j] = fire #set node on fire if rand is less than prob\n",
        "  return maze"
      ],
      "execution_count": 18,
      "outputs": []
    },
    {
      "cell_type": "markdown",
      "metadata": {
        "id": "HMn8VNDeMbGl"
      },
      "source": [
        "We can illustrate this function by rendering maze with `dim=20, p=0.3 , `and` q=0.3`, and having the fire expand 10 steps. "
      ]
    },
    {
      "cell_type": "code",
      "metadata": {
        "colab": {
          "base_uri": "https://localhost:8080/",
          "height": 1000
        },
        "id": "zSyM8L15M3F6",
        "outputId": "afbf9e2d-36ee-46b4-e36c-28a2cee32a72"
      },
      "source": [
        "maze,_ = gen_fireMaze(dim=20, p=0.3)\n",
        "render_maze(maze,goal=(19,19),fire=True)\n",
        "for i in range(10):\n",
        "    maze = expandFireOneStep(maze, 0.3)\n",
        "render_maze(maze,goal=(19,19),fire=True) "
      ],
      "execution_count": 25,
      "outputs": [
        {
          "output_type": "display_data",
          "data": {
            "image/png": "[encoded data removed]",
            "text/plain": [
              "<Figure size 2000x2000 with 1 Axes>"
            ]
          },
          "metadata": {
            "tags": []
          }
        },
        {
          "output_type": "display_data",
          "data": {
            "image/png": "[encoded data removed]",
            "text/plain": [
              "<Figure size 2000x2000 with 1 Axes>"
            ]
          },
          "metadata": {
            "tags": []
          }
        }
      ]
    },
    {
      "cell_type": "markdown",
      "metadata": {
        "id": "IXLdaEE7WDQn"
      },
      "source": [
        "##Strategy 1, No Strategy\n",
        "We will use A\\* to calculate the shortest path to the goal and follow as if there was no fire in the method `strat_one`. This strategy blindly follows the path that A\\* returns and does not account for the current or future states of the fire."
      ]
    },
    {
      "cell_type": "code",
      "metadata": {
        "id": "4G3f-xMnKC0m"
      },
      "source": [
        "def strat_one(maze:list, q: float, goal:tuple = DEFAULT_GOAL, start:tuple=DEFAULT_GOAL, traceNodes: bool = False):\n",
        "  _,_,_,path = AStar(maze, goal=goal)\n",
        "  gX, gY = goal\n",
        "  hitGoal = False\n",
        "\n",
        "  while path:\n",
        "\n",
        "    lX,lY = path.pop()\n",
        "    \n",
        "    if(maze[lX][lY]==2): #if the next step is in the fire\n",
        "      #print(\"agent died in fire\")\n",
        "      return hitGoal, maze\n",
        "    \n",
        "    if lX == gX and lY == gY:\n",
        "      hitGoal = True\n",
        "    if traceNodes:\n",
        "      maze[lX][lY]= PATH\n",
        "\n",
        "    maze = expandFireOneStep(maze, q)\n",
        "    if (maze[lX][lY]==2): # if the fire expands to agent on this step\n",
        "      #print(\"agent died in fire\")\n",
        "      return hitGoal, maze\n",
        "  \n",
        "  return hitGoal, maze\n"
      ],
      "execution_count": null,
      "outputs": []
    },
    {
      "cell_type": "markdown",
      "metadata": {
        "id": "O4u-9pVtku9A"
      },
      "source": [
        "With strategy 1 now well defined, let us create a method `test_strat1` to test it easily for a given dimension and fire spreading rate. For each test, we will generate the fire start position randomly 10 times and return the number of successes encountered."
      ]
    },
    {
      "cell_type": "code",
      "metadata": {
        "id": "BfCBMGWPkxXt"
      },
      "source": [
        "#create 1 maze 10 times and run the strategy at different fire points\n",
        "#for each q step, run it 10 times\n",
        "#returns int from 0-10 \n",
        "def test_strat1(dim, q):\n",
        "  count = 0\n",
        "  successes = 0\n",
        "  goal = (dim-1, dim-1)\n",
        "  maze = gen_maze(dim=dim, p=0.3, goal=goal)\n",
        "  #make sure the maze is solvable\n",
        "  while True: \n",
        "    if DFSUninformed(maze, goal=goal):\n",
        "      break\n",
        "    maze = gen_maze(dim=dim, p=0.3, goal=goal)\n",
        "  \n",
        "  #run each maze 10 times, with different fires\n",
        "  while count < 10:\n",
        "\n",
        "    mazeF = deepcopy(maze)\n",
        "    #start fire on the maze\n",
        "    fX, fY = randomFireStart(dim) \n",
        "    mazeF[fX][fY] = 2\n",
        "\n",
        "    #make sure that the maze is still solvable and the fire can reach the agent\n",
        "    if not (DFSUninformed(mazeF, goal=goal) and DFSUninformed(mazeF,start=(fX,fY), goal=(0,0))):\n",
        "      continue\n",
        "    #run strategy 1\n",
        "    hitGoal, _ = strat_one(maze = mazeF, q = q, goal = goal)\n",
        "    \n",
        "    if hitGoal: #if we hit the goal, increment successes\n",
        "      successes += 1\n",
        "  \n",
        "    count+=1\n",
        "  \n",
        "  return successes\n"
      ],
      "execution_count": null,
      "outputs": []
    },
    {
      "cell_type": "markdown",
      "metadata": {
        "id": "JYDOPJADfNyX"
      },
      "source": [
        "Now with our testing method `test_strat1` defined above, we can average out probability of success over a defined interval and graph the results. In the graph shown below, we ran Strategy 1 with `dimension 20`, `sample count 20`, and increased `q` by `0.1`."
      ]
    },
    {
      "cell_type": "code",
      "metadata": {
        "colab": {
          "base_uri": "https://localhost:8080/",
          "height": 376,
          "referenced_widgets": [
            "5816fb66189a4b7b9ec9893ed798e588",
            "08cfe1abade549419a93480f7b8e8ecb",
            "dc1b9cb33e8043f39ddef432e9733ad9",
            "e6216207c3f34d75bd56abb557564bfd",
            "de0166c6c6f8444295bb04842b3c7c7a",
            "52cba9d5a44d4d6eb19d0571d5f49b3d",
            "95648c119f6045bbbaf58f15ab310e36",
            "3aff87048fec476fbee43a51c405a197"
          ]
        },
        "id": "6pV6qQUVdF_f",
        "outputId": "6969f9c5-0d48-46cd-b880-fbfd37e6ddfd"
      },
      "source": [
        "# Settings\n",
        "SAMPLE_COUNT = 20\n",
        "STEP = 0.1\n",
        "DIMENSION = 20\n",
        "\n",
        "successes = dict()\n",
        "\n",
        "# Code to generate graph \n",
        "densities = np.arange(0, 1, STEP).tolist()\n",
        "density_count = len(densities)\n",
        "with tqdm(total=density_count * SAMPLE_COUNT) as pbar:\n",
        "    for i in range(len(densities)): \n",
        "        q = densities[i]\n",
        "        if q not in successes:\n",
        "            successes[q] = 0\n",
        "        for j in range(SAMPLE_COUNT):\n",
        "            successes[q] += test_strat1(dim=DIMENSION, q=q)\n",
        "            pbar.update(1)\n",
        "\n",
        "x_axis = densities\n",
        "strat_1_y_axis = [successes[x] / (SAMPLE_COUNT * 10) for x in densities]\n",
        "\n",
        "plt.xlabel(\"fire spreadibility q\")\n",
        "plt.ylabel(\"Probability of Success\")\n",
        "plt.title(\"Strategy 1 vs q \\n (dim=\" + str(DIMENSION) + \", samples=\" + str(SAMPLE_COUNT) + \" with step=\" + str(STEP) + \")\")\n",
        "plt.plot(x_axis, strat_1_y_axis)"
      ],
      "execution_count": null,
      "outputs": [
        {
          "output_type": "display_data",
          "data": {
            "application/vnd.jupyter.widget-view+json": {
              "model_id": "5816fb66189a4b7b9ec9893ed798e588",
              "version_minor": 0,
              "version_major": 2
            },
            "text/plain": [
              "HBox(children=(FloatProgress(value=0.0, max=200.0), HTML(value='')))"
            ]
          },
          "metadata": {
            "tags": []
          }
        },
        {
          "output_type": "stream",
          "text": [
            "\n"
          ],
          "name": "stdout"
        },
        {
          "output_type": "execute_result",
          "data": {
            "text/plain": [
              "[<matplotlib.lines.Line2D at 0x7fee2e2ee518>]"
            ]
          },
          "metadata": {
            "tags": []
          },
          "execution_count": 30
        },
        {
          "output_type": "display_data",
          "data": {
            "image/png": "[encoded data removed]",
            "text/plain": [
              "<Figure size 432x288 with 1 Axes>"
            ]
          },
          "metadata": {
            "tags": [],
            "needs_background": "light"
          }
        }
      ]
    },
    {
      "cell_type": "markdown",
      "metadata": {
        "id": "q9Y7OSueUL2G"
      },
      "source": [
        "## Strategy 2, Recompute Path at Every Step\n",
        "\n",
        "Strategy 2 is very similar to Strategy 1 but we recalculate our A* path at every step making sure to update our path to take into account the changes in our fire. This is done in the method `strat_two`."
      ]
    },
    {
      "cell_type": "code",
      "metadata": {
        "id": "Zi_NiUaOZptJ"
      },
      "source": [
        "def strat_two(maze:list, q: float, goal:tuple = DEFAULT_GOAL, start:tuple=DEFAULT_START, traceNodes: bool = False):\n",
        "  _,_,_,path = AStar(maze, goal=goal, start=start)\n",
        "  lX, lY = start\n",
        "  gX, gY = goal\n",
        "  hG = False\n",
        "  while path:\n",
        "    #recompute the shortest path, while taking into account the current state of fire\n",
        "    _,_,_,path = AStar(maze, start=(lX,lY), goal=goal)\n",
        "\n",
        "    path.pop() #current position\n",
        "\n",
        "    if not path: #if there are no moves in the path\n",
        "      break\n",
        "    \n",
        "    lX,lY = path.pop() #next position\n",
        "    \n",
        "    if lX == gX and lY == gY: #if we hit the goal\n",
        "      hG = True\n",
        "      break\n",
        "\n",
        "    if traceNodes:\n",
        "      maze[lX][lY]= PATH\n",
        "\n",
        "    maze = expandFireOneStep(maze, q)\n",
        "  \n",
        "    if maze[lX][lY] == 2: #if the fire expands to agent on this step\n",
        "      break\n",
        "  \n",
        "  return hG, maze"
      ],
      "execution_count": 19,
      "outputs": []
    },
    {
      "cell_type": "markdown",
      "metadata": {
        "id": "OTdlgSs2r7d0"
      },
      "source": [
        "With strategy 2 now well defined, let us create a method `test_strat2` to test it easily for a given dimension and fire spreading rate. For each test, we will generate the fire start position randomly 10 times and return the number of successes encountered."
      ]
    },
    {
      "cell_type": "code",
      "metadata": {
        "id": "GRIBgWlB2UcW"
      },
      "source": [
        "#create 1 maze 10 times and run the strategy at different fire points\n",
        "#for each q step, run it 10 times\n",
        "\n",
        "def test_strat2(dim, q):\n",
        "\n",
        "  count = 0\n",
        "  suc = 0\n",
        "  goal = (dim-1, dim-1)\n",
        "  maze = gen_maze(dim=dim, p=0.3, goal=goal)\n",
        "\n",
        "  #make sure maze is solvable\n",
        "  while True: \n",
        "    if DFSUninformed(maze, goal=goal):\n",
        "      break\n",
        "    maze = gen_maze(dim=dim, p=0.3, goal=goal)\n",
        "  \n",
        "  #run maze 10 times with 10 different fires\n",
        "  while count<10:\n",
        "    \n",
        "    mazeF = deepcopy(maze)\n",
        "    fX, fY = randomFireStart(dim)\n",
        "    mazeF[fX][fY] = 2\n",
        "   \n",
        "    #make sure that the maze is still solvable and the fire can reach the agent\n",
        "    if not (DFSUninformed(mazeF, goal=goal) and DFSUninformed(mazeF,start=(fX,fY), goal=(0,0))):\n",
        "      continue\n",
        "    \n",
        "    #run strategy 2\n",
        "    hitGoal, _ = strat_two(maze=mazeF, q=q, goal=goal)\n",
        "    \n",
        "    if hitGoal: #if we hit the goal, increment successes\n",
        "      suc+=1\n",
        "\n",
        "    count+=1\n",
        "  return suc"
      ],
      "execution_count": 20,
      "outputs": []
    },
    {
      "cell_type": "markdown",
      "metadata": {
        "id": "HN4Upz8qrv5m"
      },
      "source": [
        "Now with our testing method `test_strat2` defined, we can average out probability of success over a defined interval and graph the results. In the graph shown below, we ran Strategy 2 with `dimension 20`, `sample count 20`, and increased `q` by `0.1`."
      ]
    },
    {
      "cell_type": "code",
      "metadata": {
        "colab": {
          "base_uri": "https://localhost:8080/",
          "height": 376,
          "referenced_widgets": [
            "e537fdce73d547c28a5973651ffc73d5",
            "8fc107601f044e72b01f50c14d0ee980",
            "515e7ad7babb4858867f4d18534c6a3b",
            "46300ed667f44f89afee6dee7355dd16",
            "d0b9fc3a13be4dacac5b7b7e29c87c64",
            "9b914abb4805447dbe2e3dd2b5c00cbe",
            "d691dfc93911493cb1da01d8651e7d18",
            "618d3c1b1d2b47e093d198597c15a6f0"
          ]
        },
        "id": "pV87ZMzTOlpa",
        "outputId": "69104a3a-3e93-4025-9c48-b7a92071a793"
      },
      "source": [
        "# Settings\n",
        "SAMPLE_COUNT = 20\n",
        "STEP = 0.1\n",
        "DIMENSION = 20\n",
        "\n",
        "successes = dict()\n",
        "\n",
        "# Code to generate graph \n",
        "densities = np.arange(0, 1, STEP).tolist()\n",
        "density_count = len(densities)\n",
        "with tqdm(total=density_count * SAMPLE_COUNT) as pbar:\n",
        "    for i in range(len(densities)): \n",
        "        q = densities[i]\n",
        "        if q not in successes:\n",
        "            successes[q] = 0\n",
        "        for j in range(SAMPLE_COUNT):\n",
        "            successes[q] += test_strat2(dim=DIMENSION, q=q)\n",
        "            pbar.update(1)\n",
        "\n",
        "x_axis = densities\n",
        "strat_2_y_axis = [successes[x] / (SAMPLE_COUNT * 10) for x in densities]\n",
        "\n",
        "plt.xlabel(\"fire spreadibility q\")\n",
        "plt.ylabel(\"Probability of Success\")\n",
        "plt.title(\"Strategy 2 vs q \\n (dim=\" + str(DIMENSION) + \", samples=\" + str(SAMPLE_COUNT) + \" with step=\" + str(STEP) + \")\")\n",
        "plt.plot(x_axis, strat_2_y_axis)"
      ],
      "execution_count": 21,
      "outputs": [
        {
          "output_type": "display_data",
          "data": {
            "application/vnd.jupyter.widget-view+json": {
              "model_id": "e537fdce73d547c28a5973651ffc73d5",
              "version_minor": 0,
              "version_major": 2
            },
            "text/plain": [
              "HBox(children=(FloatProgress(value=0.0, max=200.0), HTML(value='')))"
            ]
          },
          "metadata": {
            "tags": []
          }
        },
        {
          "output_type": "stream",
          "text": [
            "\n"
          ],
          "name": "stdout"
        },
        {
          "output_type": "execute_result",
          "data": {
            "text/plain": [
              "[<matplotlib.lines.Line2D at 0x7fd6b350a5f8>]"
            ]
          },
          "metadata": {
            "tags": []
          },
          "execution_count": 21
        },
        {
          "output_type": "display_data",
          "data": {
            "image/png": "[encoded data removed]",
            "text/plain": [
              "<Figure size 432x288 with 1 Axes>"
            ]
          },
          "metadata": {
            "tags": [],
            "needs_background": "light"
          }
        }
      ]
    },
    {
      "cell_type": "markdown",
      "metadata": {
        "id": "8PDdZc0wH_WN"
      },
      "source": [
        "## Problem 5 - Strategy 3, Future Risk Adjusted Path (FRAP)"
      ]
    },
    {
      "cell_type": "markdown",
      "metadata": {
        "id": "0Go4jm3UIDCe"
      },
      "source": [
        "### Describe your improved Strategy 3. How does it account for the unknown future?"
      ]
    },
    {
      "cell_type": "markdown",
      "metadata": {
        "id": "F1Y0Y6tvbec_"
      },
      "source": [
        "Strategy 3 is our way to solve this maze on fire problem. The problem with Strategy 2 is that it fails to take into account the future state of the maze, resulting in sub-optimal results. Unlike Strategy 1 and Strategy 2, our Strategy 3 takes into account not only the current state of the fire but also potential future states of the fire. To do this, we generate a fire map that takes in the current state of the maze, including what is on fire currently. From this, assuming a worst case `q = 1.0` fire spread probability, we calculate at what step each cell will catch on fire and is therefore a representation of the future of the fire. This is then used to create a weighting for each cell. This weighting is based on the cell's proximity to the goal as well as at which step it will be on fire in the worst case (based on the fire map) and at which step the cell will be visited by our agent. These weights are used as the heuristics for A\\*. More specifically, the cost of the cell in the fringe is equal to the manhattan distance to the goal + the cost to reach the goal - the cell's value in the fire map.\n",
        "\n",
        "The first step in this process is to create a list, mapping a tuple of x,y coordinates to the worst case fire expansion at a given cell. What we mean by this is that if the fire starts at some arbitrary cell `C`, we can assume the worst conditions for the fire (`q = 1.0`), and calculate for each cell in the grid how many steps it would take for it to reach it. To implement this, we will define a function `generate_fire_step_maze`, which will generate and return this list for a given maze."
      ]
    },
    {
      "cell_type": "code",
      "metadata": {
        "id": "qflzhfs4a0Hn"
      },
      "source": [
        "def generate_fire_step_maze(maze: list) -> tuple:\n",
        "  fire_step_map = dict()\n",
        "  maze_dim = len(maze)\n",
        "  fire_step_maze = [[-1 for _ in range(maze_dim)] for _ in range(maze_dim)]\n",
        "\n",
        "  dirs = [(1,0), (-1,0), (0,1), (0,-1)]\n",
        "\n",
        "  iteration = 0\n",
        "  cells = Queue() \n",
        "\n",
        "  #find all cells on fire and add to queue\n",
        "  for i in range(len(maze)):\n",
        "    for j in range(len(maze)):\n",
        "      if maze[i][j] == FIRE:\n",
        "        cells.put((i,j))\n",
        "  \n",
        "  while not cells.empty():\n",
        "    cells_this_step = cells.qsize()\n",
        "    for i in range(cells_this_step):\n",
        "      cX, cY = cells.get() # current x,y\n",
        "      \n",
        "      # Check if we've already been here\n",
        "      if (cX, cY) in fire_step_map: continue\n",
        "\n",
        "      # add current cell to hashmap\n",
        "      fire_step_map[(cX,cY)] = iteration\n",
        "      fire_step_maze[cX][cY] = iteration\n",
        "      \n",
        "      # check neighbors\n",
        "      for dX,dY in dirs: \n",
        "        # new x,y\n",
        "        nX, nY = cX + dX, cY + dY\n",
        "\n",
        "        if (nX,nY) not in fire_step_map:\n",
        "          # check bounds\n",
        "          if 0 <= nX and nX < maze_dim and 0 <= nY and nY < maze_dim:\n",
        "            #if not an obstacle, add to dict\n",
        "            if maze[nX][nY] != 1:\n",
        "              cells.put((nX,nY))\n",
        "\n",
        "    iteration += 1\n",
        "\n",
        "  return fire_step_map, fire_step_maze"
      ],
      "execution_count": null,
      "outputs": []
    },
    {
      "cell_type": "markdown",
      "metadata": {
        "id": "ocHeFaj-Ij6v"
      },
      "source": [
        "We are also going to want a way to render this fire maze for visualization purposes, which is defined by the function `render_fire_maze`. The darker the cell is, the earlier it is on fire (in the worst case of `q = 1.0`) and the lighter the cell is, the later it is on fire."
      ]
    },
    {
      "cell_type": "code",
      "metadata": {
        "id": "gW9FduPnIiZv"
      },
      "source": [
        "def render_fire_maze(maze: list, showValues: bool = False): \n",
        "    dim = len(maze)\n",
        "    fig = plt.figure(figsize=(dim,dim))\n",
        "\n",
        "    ax = fig.add_subplot(222)\n",
        "\n",
        "    ax.set_xticks(np.arange(-0.5, dim, 1))\n",
        "    ax.set_yticks(np.arange(-0.5, dim, 1))\n",
        "    # ax.set_yticklabels([])\n",
        "    # ax.set_xticklabels([])\n",
        "    # maze[0][0] = math.floor(math.sqrt(dim)) + 20\n",
        "    # maze[-1][-1] = math.floor(math.sqrt(dim)) + 20\n",
        "    plt.tick_params(\n",
        "        axis='x',          # changes apply to the x-axis\n",
        "        which='both',      # both major and minor ticks are affected\n",
        "        bottom=False,      # ticks along the bottom edge are off\n",
        "        top=False,         # ticks along the top edge are off\n",
        "        labelbottom=False) # labels along the bottom edge are off\n",
        "\n",
        "    plt.tick_params(\n",
        "        axis='y',          # changes apply to the x-axis\n",
        "        which='both',      # both major and minor ticks are affected\n",
        "        left=False,      # ticks along the bottom edge are off\n",
        "        right=False,         # ticks along the top edge are off\n",
        "        labelleft=False) # labels along the bottom edge are off\n",
        "\n",
        "    ax.grid(which='major', axis='both', linestyle='-', color='0', linewidth=0.1)\n",
        "    ax.set_title('maze')\n",
        "    \n",
        "  # optional value settings\n",
        "    if showValues:\n",
        "      for (i,j), z in np.ndenumerate(maze):\n",
        "        ax.text(j,i, str(z), ha='center', va='center')\n",
        "\n",
        "    plt.imshow(maze, interpolation='None')\n",
        "    plt.set_cmap('Reds_r')\n",
        "    fig = plt.figure(dpi=100)\n",
        "\n",
        "    maze[0][0] = 0\n",
        "    maze[-1][-1] = 0"
      ],
      "execution_count": null,
      "outputs": []
    },
    {
      "cell_type": "markdown",
      "metadata": {
        "id": "tJ2rqjzOIOXH"
      },
      "source": [
        "We can take a look at a visualization of what we are talking about here, by rendering a view of a generated maze and its corresponding `fire_step_map`."
      ]
    },
    {
      "cell_type": "code",
      "metadata": {
        "id": "SNgoaMNVdqwB",
        "colab": {
          "base_uri": "https://localhost:8080/",
          "height": 1000
        },
        "outputId": "cba85d0f-5db1-4c53-ff8e-3e8d146d613e"
      },
      "source": [
        "maze, fire = gen_fireMaze(20, 0.3)\n",
        "fire_step_map, fire_step_maze = generate_fire_step_maze(maze)\n",
        "render_maze(maze,goal=(19,19), fire=True)\n",
        "render_fire_maze(fire_step_maze, showValues=True)"
      ],
      "execution_count": null,
      "outputs": [
        {
          "output_type": "display_data",
          "data": {
            "image/png": "[encoded data removed]",
            "text/plain": [
              "<Figure size 2000x2000 with 1 Axes>"
            ]
          },
          "metadata": {
            "tags": []
          }
        },
        {
          "output_type": "display_data",
          "data": {
            "image/png": "[encoded data removed]",
            "text/plain": [
              "<Figure size 1440x1440 with 1 Axes>"
            ]
          },
          "metadata": {
            "tags": []
          }
        },
        {
          "output_type": "display_data",
          "data": {
            "text/plain": [
              "<Figure size 600x400 with 0 Axes>"
            ]
          },
          "metadata": {
            "tags": []
          }
        }
      ]
    },
    {
      "cell_type": "markdown",
      "metadata": {
        "id": "oc7qWkR19h3V"
      },
      "source": [
        "At this point we want to modify our A\\* in order to account for the `fire_step_map`, i.e the future states of the maze. In addition, we will use the manhattan distance to weigh the nodes, this will allow us to explore optimal paths further away from the diagonal. We do all this in the functions `manHat` and `AStar_mod`."
      ]
    },
    {
      "cell_type": "code",
      "metadata": {
        "id": "HHn7rTFB7waT"
      },
      "source": [
        "#return the manhattan distance from start to goal\n",
        "def manHat(start: tuple, goal:tuple):\n",
        "  sX,sY = start\n",
        "  gX, gY= goal\n",
        "  return abs(sX-gX)+abs(sY-gY)"
      ],
      "execution_count": null,
      "outputs": []
    },
    {
      "cell_type": "code",
      "metadata": {
        "id": "FloMh8sq9x7s"
      },
      "source": [
        "def AStar_mod(maze: list, fire_map: dict, start: tuple = DEFAULT_START, goal: tuple = DEFAULT_GOAL, traceNodes: bool = False ):\n",
        "    \n",
        "    dim = len(maze)\n",
        "    #keeps track of the nodes that have already been visited\n",
        "    visited = [[0 for _ in range(dim)] for _ in range(dim)]\n",
        "    #keeps track of cost to reach the node i,j\n",
        "    costs = [[0 for _ in range(dim)] for _ in range(dim)]\n",
        "    #keeps track of the parent node of each node\n",
        "    previous = [[0 for _ in range(dim)] for _ in range(dim)]\n",
        "    \n",
        "    sX, sY = start\n",
        "    gX, gY = goal\n",
        "    loc = start\n",
        "    \n",
        "    #init heap\n",
        "    heap = PriorityQueue()\n",
        "    #put start in the heap\n",
        "    heap.put((manHat(start, goal), start))\n",
        "    \n",
        "    #start node cost = 0\n",
        "    costs[sX][sY] = 0\n",
        "    #we added start to fringe\n",
        "    visited[sX][sY] = 1\n",
        "    \n",
        "    #keeps track of number of visited nodes\n",
        "    numVisited = 0\n",
        "    \n",
        "    #if goal node is reached\n",
        "    goalHit = False\n",
        "    \n",
        "    #will keep track of the closest node if there is no path to the goal\n",
        "    closestNode = start\n",
        "    closestCost = manHat(start, goal)\n",
        "\n",
        "    while not heap.empty():\n",
        "        \n",
        "        numVisited = numVisited + 1 #increment # visited nodes \n",
        "        \n",
        "        _,loc = heap.get() #get loc of the least est cost node\n",
        "        lX,lY =loc\n",
        "        if(loc[0]==gX and loc[1]==gY): #if Goal is reached\n",
        "            goalHit=True\n",
        "            break\n",
        "        \n",
        "        childCost = costs[loc[0]][loc[1]] + 1  #children = actual cost of parent + 1\n",
        "        \n",
        "        if traceNodes: \n",
        "            maze[loc[0]][loc[1]] = 0.5 \n",
        "        \n",
        "        #delta arrays\n",
        "        horz = [1,0,0,-1]\n",
        "        vert = [0,-1,1,0]\n",
        "\n",
        "        #visit children\n",
        "        for i in range(4):\n",
        "            nX = loc[0]+horz[i]\n",
        "            nY = loc[1]+vert[i]\n",
        "            if (nX<len(maze) and nX>=0 and nY<len(maze) and nY>=0): #check coordinates with maze bounds\n",
        "                if ((maze[nX][nY] != 1) and (maze[nX][nY]!=2) and (visited[nX][nY]!=1)): #not obstacle and not added to fringe yet\n",
        "                        visited[nX][nY] = 1 #added to fringe True\n",
        "                        previous[nX][nY] = loc #set parent \n",
        "                        costs[nX][nY] = childCost #set actual cost\n",
        "                        manhatCost = manHat((nX,nY), goal) #calculate estimate distance to goal\n",
        "                        totalEstC = manhatCost+childCost-fire_map[(nX,nY)] #heurestic+ actual cost\n",
        "                        heap.put((totalEstC, [nX,nY])) #add to fringe\n",
        "                        if (manhatCost<closestCost): #if node is closer than current closest, set current to closestNode\n",
        "                          closestNode = (nX,nY)\n",
        "                          closestCost = manhatCost\n",
        "    loc = closestNode       \n",
        "    pLen, maze, path = trace_path(maze, previous, loc, traceNodes=traceNodes , start=start) #traces optimal path and gives length of optimal path\n",
        "    \n",
        "    return goalHit, numVisited, pLen, path"
      ],
      "execution_count": null,
      "outputs": []
    },
    {
      "cell_type": "markdown",
      "metadata": {
        "id": "nNmuvrE__lg7"
      },
      "source": [
        "Now we can implement our Strategy 3 in the function `strat_3`."
      ]
    },
    {
      "cell_type": "code",
      "metadata": {
        "id": "9xtRRg37AJIR"
      },
      "source": [
        "#strategy 3, returns true if we hit the goal\n",
        "\n",
        "def strat_three(maze:list, q: float, goal: tuple= DEFAULT_GOAL, start: tuple = DEFAULT_START, traceNodes:bool = False):\n",
        "  \n",
        "  hitGoal = False\n",
        "  dead = False\n",
        "  gX, gY = goal\n",
        "  lX, lY = start\n",
        "  iterations = 0\n",
        "\n",
        "\n",
        "  while not hitGoal:\n",
        "    \n",
        "    iterations += 1\n",
        "\n",
        "    fire_maze,_ = generate_fire_step_maze(maze) #calculate the worst case fire \n",
        "    _,_,_,path = AStar_mod(maze=maze, fire_map=fire_maze, start=(lX,lY), goal=goal)\n",
        "    path.pop()\n",
        "    \n",
        "  \n",
        "    if not path: #if there are no moves left\n",
        "      _,_,_,path = AStar(maze=maze, start=(lX,lY), goal=goal) #we will try to escape the fire, i.e. strat 2 b/c the agent is doomed if it chooses to stay in place\n",
        "      path.pop()\n",
        "      if not path:\n",
        "        break\n",
        "\n",
        "\n",
        "    lX, lY = path.pop()\n",
        "\n",
        "    if lX == gX and lY == gY: #if we reach goal node\n",
        "      hitGoal=True\n",
        "      break\n",
        "\n",
        "    if maze[lX][lY] == 2: #if the next position is on fire\n",
        "      break\n",
        "\n",
        "    if traceNodes:\n",
        "      maze[lX][lY] = -0.5\n",
        "\n",
        "    maze = expandFireOneStep(maze, q)\n",
        "\n",
        "    if maze[lX][lY] == 2: #if the fire expands to agent on this step\n",
        "      break\n",
        "\n",
        "  return hitGoal, maze      "
      ],
      "execution_count": null,
      "outputs": []
    },
    {
      "cell_type": "markdown",
      "metadata": {
        "id": "df-CVomtKgRO"
      },
      "source": [
        "With strategy 3 now well defined, let us create a method `test_strat3` to test it easily for a given dimension and fire spreading rate. For each test, we will generate the fire start position randomly 10 times and return the number of successes encountered. With our testing method `test_strat3` defined, we can average out probability of success over a defined interval and graph the results."
      ]
    },
    {
      "cell_type": "code",
      "metadata": {
        "id": "z03suuzzc6s9"
      },
      "source": [
        "def test_strat3(dim, q):\n",
        "\n",
        "  count = 0\n",
        "  suc = 0\n",
        "  goal = (dim-1, dim-1)\n",
        "  maze = gen_maze(dim=dim, p=0.3, goal=goal)\n",
        "\n",
        "  #check if solveable\n",
        "  while True: \n",
        "    if DFSUninformed(maze, goal=goal):\n",
        "      break\n",
        "    maze = gen_maze(dim=dim, p=0.3, goal=goal)\n",
        "\n",
        "  #run maze 10 times with 10 different fires\n",
        "  while count<10:\n",
        "    #start fire\n",
        "    mazeF = deepcopy(maze)\n",
        "    fX, fY = randomFireStart(dim)\n",
        "    mazeF[fX][fY] = 2\n",
        "\n",
        "    #make sure that the maze is still solvable and the fire can reach the agent\n",
        "    if not (DFSUninformed(mazeF, goal=goal) and DFSUninformed(mazeF,start=(fX,fY), goal=(0,0))): \n",
        "      continue\n",
        "    #run strategy 3\n",
        "    hitGoal, _ = strat_three(maze=mazeF, q=q, goal=goal)\n",
        "\n",
        "    if hitGoal: #if we hit goal, increment successes\n",
        "      suc+=1\n",
        "\n",
        "    count+=1\n",
        "\n",
        "  return suc"
      ],
      "execution_count": null,
      "outputs": []
    },
    {
      "cell_type": "markdown",
      "metadata": {
        "id": "lq4O4gBpkPos"
      },
      "source": [
        "## Problem 6"
      ]
    },
    {
      "cell_type": "markdown",
      "metadata": {
        "id": "sh4VD5mVKsr1"
      },
      "source": [
        "### Plot, for Strategy 1, 2, and 3, a graph of ‘average strategy success rate’ vs ‘flammability q’ at p = 0.3. Where do the different strategies perform the same? Where do they perform differently? Why?"
      ]
    },
    {
      "cell_type": "markdown",
      "metadata": {
        "id": "Z774BVGTkVto"
      },
      "source": [
        "We can compare each strategy against each other by plotting them on the same graph."
      ]
    },
    {
      "cell_type": "code",
      "metadata": {
        "colab": {
          "base_uri": "https://localhost:8080/",
          "height": 376,
          "referenced_widgets": [
            "7159eba5961e4b368cde77263ccc9504",
            "61de24d80f884910bdd5d97a1bb62ca4",
            "57193dec7f774d47a3eabae2af0c09c7",
            "5fb759d316074246877659d2a67bd7ce",
            "e2a26419eb44412899e891989af95398",
            "9d63967b95b440309e2734f04cbab50e",
            "2c9d1b7fe5e04d2f9a99b62476dd11e6",
            "d5e55ac6911d4c83a2b7098f7e6024ff"
          ]
        },
        "id": "Fj61VguT_ooG",
        "outputId": "4abc0d87-50db-430b-ba62-336e091d3b9c"
      },
      "source": [
        "# Settings\n",
        "SAMPLE_COUNT = 20\n",
        "STEP = 0.05\n",
        "DIMENSION = 40\n",
        "\n",
        "# Code to generate graph \n",
        "densities = np.arange(0.0, 1, STEP).tolist()\n",
        "successes1 = dict()\n",
        "successes2 = dict()\n",
        "successes3 = dict()\n",
        "density_count = len(densities)\n",
        "with tqdm(total=density_count * SAMPLE_COUNT) as pbar:\n",
        "    for i in range(len(densities)): \n",
        "        q = densities[i]\n",
        "        if q not in successes2:\n",
        "            successes1[q] = 0\n",
        "            successes2[q] = 0\n",
        "            successes3[q] = 0\n",
        "        for j in range(SAMPLE_COUNT):\n",
        "            successes1[q]+= test_strat1(dim=DIMENSION, q=q)\n",
        "            successes2[q] += test_strat2(dim=DIMENSION, q=q)\n",
        "            successes3[q] += test_strat3(dim=DIMENSION, q=q)\n",
        "            pbar.update(1)\n",
        "\n",
        "x_axis = densities\n",
        "y_axis = [successes3[x] / (SAMPLE_COUNT*10) for x in densities]\n",
        "y_2 = [successes2[x]/(SAMPLE_COUNT*10) for x in densities]\n",
        "y_1 = [successes1[x]/(SAMPLE_COUNT*10) for x in densities]\n",
        "\n",
        "plt.xlabel(\"fire spreadibility q\")\n",
        "plt.ylabel(\"Probability of Success\")\n",
        "plt.title(\"Average Strategy Success vs flammability q (at p=0.3) \\n (dim=\" + str(DIMENSION) + \", samples=\" + str(SAMPLE_COUNT) + \" with step=\" + str(STEP) + \")\")\n",
        "plt.plot(x_axis, y_axis, label=\"strat 3\")\n",
        "plt.plot(x_axis, y_2, label=\"strat 2\")\n",
        "plt.plot(x_axis, y_1, label = \"strat 1\")\n",
        "plt.legend()\n"
      ],
      "execution_count": null,
      "outputs": [
        {
          "output_type": "display_data",
          "data": {
            "application/vnd.jupyter.widget-view+json": {
              "model_id": "7159eba5961e4b368cde77263ccc9504",
              "version_minor": 0,
              "version_major": 2
            },
            "text/plain": [
              "HBox(children=(FloatProgress(value=0.0, max=200.0), HTML(value='')))"
            ]
          },
          "metadata": {
            "tags": []
          }
        },
        {
          "output_type": "stream",
          "text": [
            "\n"
          ],
          "name": "stdout"
        },
        {
          "output_type": "execute_result",
          "data": {
            "text/plain": [
              "<matplotlib.legend.Legend at 0x7fee2e1a9630>"
            ]
          },
          "metadata": {
            "tags": []
          },
          "execution_count": 62
        },
        {
          "output_type": "display_data",
          "data": {
            "image/png": "[encoded data removed]",
            "text/plain": [
              "<Figure size 432x288 with 1 Axes>"
            ]
          },
          "metadata": {
            "tags": [],
            "needs_background": "light"
          }
        }
      ]
    },
    {
      "cell_type": "markdown",
      "metadata": {
        "id": "hvJBXNqeLBlU"
      },
      "source": [
        "The three strategies perform around the same at `q >= 0.7`. This is because our Strategy 3 uses the fire map (the worst case future of the fire using `q = 1.0`). At high `q` values such as `0.7` and higher, the worst case fire map that we use in our Strategy 3 A\\* heuristic is not much worse than the actual fire growth because the actual `q` is very close to `1.0`. Because of this, we are unable to find a viable path to the goal without visiting a node that may be on fire. As a result, our Strategy 3 does about the same as the other two strategies at these high `q` values. However, our Strategy 3 performs better than or equal to the other two strategies at `0.0 <= q <= 0.7`. This is because we assume the worst case fire spread. This means we are assuming a much worse fire spread than the actual fire spread and as a result, the agent chooses a much safer route than Strategies 1 and 2 at these `q` values."
      ]
    },
    {
      "cell_type": "markdown",
      "metadata": {
        "id": "0vlcwby3LRXY"
      },
      "source": [
        "## Problem 7"
      ]
    },
    {
      "cell_type": "markdown",
      "metadata": {
        "id": "emxnWwCmLTce"
      },
      "source": [
        "### If you had unlimited computational resources at your disposal, how could you improve on Strategy 3?"
      ]
    },
    {
      "cell_type": "markdown",
      "metadata": {
        "id": "-r8xsf95LWiM"
      },
      "source": [
        "Due to having limited computational resources, our current Strategy 3 only looks at the most optimal paths to the goal cell. We then pass those optimal paths to our risk assessment algorithm and pick the best path. However, if we had unlimited computation resources, our Strategy 3 would instead look at all possible paths to the goal cell. We could then pass every single path to our risk assessment algorithm which would greatly increase the chance that a viable path to the goal cell is found without catching on fire. For example, if a fire is near a spot that an optimal path may go through, our current Strategy 3 may not be able to escape the fire because it leverages optimal paths. However, with unlimited resources, we could look at all possible paths, therefore avoiding the fire by discovering a less risky but non-optimal path."
      ]
    },
    {
      "cell_type": "markdown",
      "metadata": {
        "id": "x4AfMzgRLfQs"
      },
      "source": [
        "## Problem 8"
      ]
    },
    {
      "cell_type": "markdown",
      "metadata": {
        "id": "8uxPx7_1Lh0F"
      },
      "source": [
        "### If you could only take ten seconds between moves (rather than doing as much computation as you like), how would that change your strategy? Describe such a potential Strategy 4."
      ]
    },
    {
      "cell_type": "markdown",
      "metadata": {
        "id": "c86E0XCOLlpY"
      },
      "source": [
        "Currently, every time we take a step, we recalculate all the optimal paths using A\\* and recalculate the worst case fire map using the current fire. This takes a lot time and may take more than 10 seconds between steps. However, if we could only take ten seconds between moves rather than doing as much computation as we like, we would just calculate the next 5 steps and use that to decide which path to take, instead of calculating the entire optimal path. Due to the fact that calculating the entire fire map is extremely quick, we would not need to cut down on how often we recalculate the fire map because we would still be able to do this in less than 10 seconds between moves. As a result, our Strategy 4 would calculate just the next 5 steps using A* rather than calculating the entire optimal path to the goal in between steps. This would greatly cut down how much time we take between moves."
      ]
    }
  ]
}